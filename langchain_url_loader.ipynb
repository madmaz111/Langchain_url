{
  "nbformat": 4,
  "nbformat_minor": 0,
  "metadata": {
    "colab": {
      "provenance": []
    },
    "kernelspec": {
      "name": "python3",
      "display_name": "Python 3"
    },
    "language_info": {
      "name": "python"
    }
  },
  "cells": [
    {
      "cell_type": "code",
      "execution_count": 1,
      "metadata": {
        "colab": {
          "base_uri": "https://localhost:8080/"
        },
        "id": "QXnCGZcO7l0B",
        "outputId": "538afabb-8ba3-43a4-a5bb-dd661563303f"
      },
      "outputs": [
        {
          "output_type": "stream",
          "name": "stdout",
          "text": [
            "Looking in indexes: https://pypi.org/simple, https://us-python.pkg.dev/colab-wheels/public/simple/\n",
            "Collecting langchain\n",
            "  Downloading langchain-0.0.194-py3-none-any.whl (1.0 MB)\n",
            "\u001b[2K     \u001b[90m━━━━━━━━━━━━━━━━━━━━━━━━━━━━━━━━━━━━━━━━\u001b[0m \u001b[32m1.0/1.0 MB\u001b[0m \u001b[31m19.8 MB/s\u001b[0m eta \u001b[36m0:00:00\u001b[0m\n",
            "\u001b[?25hRequirement already satisfied: PyYAML>=5.4.1 in /usr/local/lib/python3.10/dist-packages (from langchain) (6.0)\n",
            "Requirement already satisfied: SQLAlchemy<3,>=1.4 in /usr/local/lib/python3.10/dist-packages (from langchain) (2.0.10)\n",
            "Collecting aiohttp<4.0.0,>=3.8.3 (from langchain)\n",
            "  Downloading aiohttp-3.8.4-cp310-cp310-manylinux_2_17_x86_64.manylinux2014_x86_64.whl (1.0 MB)\n",
            "\u001b[2K     \u001b[90m━━━━━━━━━━━━━━━━━━━━━━━━━━━━━━━━━━━━━━━━\u001b[0m \u001b[32m1.0/1.0 MB\u001b[0m \u001b[31m42.1 MB/s\u001b[0m eta \u001b[36m0:00:00\u001b[0m\n",
            "\u001b[?25hCollecting async-timeout<5.0.0,>=4.0.0 (from langchain)\n",
            "  Downloading async_timeout-4.0.2-py3-none-any.whl (5.8 kB)\n",
            "Collecting dataclasses-json<0.6.0,>=0.5.7 (from langchain)\n",
            "  Downloading dataclasses_json-0.5.7-py3-none-any.whl (25 kB)\n",
            "Collecting langchainplus-sdk>=0.0.6 (from langchain)\n",
            "  Downloading langchainplus_sdk-0.0.7-py3-none-any.whl (22 kB)\n",
            "Requirement already satisfied: numexpr<3.0.0,>=2.8.4 in /usr/local/lib/python3.10/dist-packages (from langchain) (2.8.4)\n",
            "Requirement already satisfied: numpy<2,>=1 in /usr/local/lib/python3.10/dist-packages (from langchain) (1.22.4)\n",
            "Collecting openapi-schema-pydantic<2.0,>=1.2 (from langchain)\n",
            "  Downloading openapi_schema_pydantic-1.2.4-py3-none-any.whl (90 kB)\n",
            "\u001b[2K     \u001b[90m━━━━━━━━━━━━━━━━━━━━━━━━━━━━━━━━━━━━━━━━\u001b[0m \u001b[32m90.0/90.0 kB\u001b[0m \u001b[31m9.8 MB/s\u001b[0m eta \u001b[36m0:00:00\u001b[0m\n",
            "\u001b[?25hRequirement already satisfied: pydantic<2,>=1 in /usr/local/lib/python3.10/dist-packages (from langchain) (1.10.7)\n",
            "Requirement already satisfied: requests<3,>=2 in /usr/local/lib/python3.10/dist-packages (from langchain) (2.27.1)\n",
            "Requirement already satisfied: tenacity<9.0.0,>=8.1.0 in /usr/local/lib/python3.10/dist-packages (from langchain) (8.2.2)\n",
            "Requirement already satisfied: attrs>=17.3.0 in /usr/local/lib/python3.10/dist-packages (from aiohttp<4.0.0,>=3.8.3->langchain) (23.1.0)\n",
            "Requirement already satisfied: charset-normalizer<4.0,>=2.0 in /usr/local/lib/python3.10/dist-packages (from aiohttp<4.0.0,>=3.8.3->langchain) (2.0.12)\n",
            "Collecting multidict<7.0,>=4.5 (from aiohttp<4.0.0,>=3.8.3->langchain)\n",
            "  Downloading multidict-6.0.4-cp310-cp310-manylinux_2_17_x86_64.manylinux2014_x86_64.whl (114 kB)\n",
            "\u001b[2K     \u001b[90m━━━━━━━━━━━━━━━━━━━━━━━━━━━━━━━━━━━━━━\u001b[0m \u001b[32m114.5/114.5 kB\u001b[0m \u001b[31m12.3 MB/s\u001b[0m eta \u001b[36m0:00:00\u001b[0m\n",
            "\u001b[?25hCollecting yarl<2.0,>=1.0 (from aiohttp<4.0.0,>=3.8.3->langchain)\n",
            "  Downloading yarl-1.9.2-cp310-cp310-manylinux_2_17_x86_64.manylinux2014_x86_64.whl (268 kB)\n",
            "\u001b[2K     \u001b[90m━━━━━━━━━━━━━━━━━━━━━━━━━━━━━━━━━━━━━━\u001b[0m \u001b[32m268.8/268.8 kB\u001b[0m \u001b[31m18.9 MB/s\u001b[0m eta \u001b[36m0:00:00\u001b[0m\n",
            "\u001b[?25hCollecting frozenlist>=1.1.1 (from aiohttp<4.0.0,>=3.8.3->langchain)\n",
            "  Downloading frozenlist-1.3.3-cp310-cp310-manylinux_2_5_x86_64.manylinux1_x86_64.manylinux_2_17_x86_64.manylinux2014_x86_64.whl (149 kB)\n",
            "\u001b[2K     \u001b[90m━━━━━━━━━━━━━━━━━━━━━━━━━━━━━━━━━━━━━━\u001b[0m \u001b[32m149.6/149.6 kB\u001b[0m \u001b[31m14.7 MB/s\u001b[0m eta \u001b[36m0:00:00\u001b[0m\n",
            "\u001b[?25hCollecting aiosignal>=1.1.2 (from aiohttp<4.0.0,>=3.8.3->langchain)\n",
            "  Downloading aiosignal-1.3.1-py3-none-any.whl (7.6 kB)\n",
            "Collecting marshmallow<4.0.0,>=3.3.0 (from dataclasses-json<0.6.0,>=0.5.7->langchain)\n",
            "  Downloading marshmallow-3.19.0-py3-none-any.whl (49 kB)\n",
            "\u001b[2K     \u001b[90m━━━━━━━━━━━━━━━━━━━━━━━━━━━━━━━━━━━━━━━━\u001b[0m \u001b[32m49.1/49.1 kB\u001b[0m \u001b[31m3.9 MB/s\u001b[0m eta \u001b[36m0:00:00\u001b[0m\n",
            "\u001b[?25hCollecting marshmallow-enum<2.0.0,>=1.5.1 (from dataclasses-json<0.6.0,>=0.5.7->langchain)\n",
            "  Downloading marshmallow_enum-1.5.1-py2.py3-none-any.whl (4.2 kB)\n",
            "Collecting typing-inspect>=0.4.0 (from dataclasses-json<0.6.0,>=0.5.7->langchain)\n",
            "  Downloading typing_inspect-0.9.0-py3-none-any.whl (8.8 kB)\n",
            "Requirement already satisfied: typing-extensions>=4.2.0 in /usr/local/lib/python3.10/dist-packages (from pydantic<2,>=1->langchain) (4.5.0)\n",
            "Requirement already satisfied: urllib3<1.27,>=1.21.1 in /usr/local/lib/python3.10/dist-packages (from requests<3,>=2->langchain) (1.26.15)\n",
            "Requirement already satisfied: certifi>=2017.4.17 in /usr/local/lib/python3.10/dist-packages (from requests<3,>=2->langchain) (2022.12.7)\n",
            "Requirement already satisfied: idna<4,>=2.5 in /usr/local/lib/python3.10/dist-packages (from requests<3,>=2->langchain) (3.4)\n",
            "Requirement already satisfied: greenlet!=0.4.17 in /usr/local/lib/python3.10/dist-packages (from SQLAlchemy<3,>=1.4->langchain) (2.0.2)\n",
            "Requirement already satisfied: packaging>=17.0 in /usr/local/lib/python3.10/dist-packages (from marshmallow<4.0.0,>=3.3.0->dataclasses-json<0.6.0,>=0.5.7->langchain) (23.1)\n",
            "Collecting mypy-extensions>=0.3.0 (from typing-inspect>=0.4.0->dataclasses-json<0.6.0,>=0.5.7->langchain)\n",
            "  Downloading mypy_extensions-1.0.0-py3-none-any.whl (4.7 kB)\n",
            "Installing collected packages: mypy-extensions, multidict, marshmallow, frozenlist, async-timeout, yarl, typing-inspect, openapi-schema-pydantic, marshmallow-enum, langchainplus-sdk, aiosignal, dataclasses-json, aiohttp, langchain\n",
            "Successfully installed aiohttp-3.8.4 aiosignal-1.3.1 async-timeout-4.0.2 dataclasses-json-0.5.7 frozenlist-1.3.3 langchain-0.0.194 langchainplus-sdk-0.0.7 marshmallow-3.19.0 marshmallow-enum-1.5.1 multidict-6.0.4 mypy-extensions-1.0.0 openapi-schema-pydantic-1.2.4 typing-inspect-0.9.0 yarl-1.9.2\n"
          ]
        }
      ],
      "source": [
        "pip install langchain"
      ]
    },
    {
      "cell_type": "code",
      "source": [
        "pip install openai"
      ],
      "metadata": {
        "colab": {
          "base_uri": "https://localhost:8080/"
        },
        "id": "aFqktemW7x6g",
        "outputId": "ee302bff-18b7-426a-fc4e-b9fac8ebbd1b"
      },
      "execution_count": 2,
      "outputs": [
        {
          "output_type": "stream",
          "name": "stdout",
          "text": [
            "Looking in indexes: https://pypi.org/simple, https://us-python.pkg.dev/colab-wheels/public/simple/\n",
            "Collecting openai\n",
            "  Downloading openai-0.27.8-py3-none-any.whl (73 kB)\n",
            "\u001b[2K     \u001b[90m━━━━━━━━━━━━━━━━━━━━━━━━━━━━━━━━━━━━━━━━\u001b[0m \u001b[32m73.6/73.6 kB\u001b[0m \u001b[31m4.6 MB/s\u001b[0m eta \u001b[36m0:00:00\u001b[0m\n",
            "\u001b[?25hRequirement already satisfied: requests>=2.20 in /usr/local/lib/python3.10/dist-packages (from openai) (2.27.1)\n",
            "Requirement already satisfied: tqdm in /usr/local/lib/python3.10/dist-packages (from openai) (4.65.0)\n",
            "Requirement already satisfied: aiohttp in /usr/local/lib/python3.10/dist-packages (from openai) (3.8.4)\n",
            "Requirement already satisfied: urllib3<1.27,>=1.21.1 in /usr/local/lib/python3.10/dist-packages (from requests>=2.20->openai) (1.26.15)\n",
            "Requirement already satisfied: certifi>=2017.4.17 in /usr/local/lib/python3.10/dist-packages (from requests>=2.20->openai) (2022.12.7)\n",
            "Requirement already satisfied: charset-normalizer~=2.0.0 in /usr/local/lib/python3.10/dist-packages (from requests>=2.20->openai) (2.0.12)\n",
            "Requirement already satisfied: idna<4,>=2.5 in /usr/local/lib/python3.10/dist-packages (from requests>=2.20->openai) (3.4)\n",
            "Requirement already satisfied: attrs>=17.3.0 in /usr/local/lib/python3.10/dist-packages (from aiohttp->openai) (23.1.0)\n",
            "Requirement already satisfied: multidict<7.0,>=4.5 in /usr/local/lib/python3.10/dist-packages (from aiohttp->openai) (6.0.4)\n",
            "Requirement already satisfied: async-timeout<5.0,>=4.0.0a3 in /usr/local/lib/python3.10/dist-packages (from aiohttp->openai) (4.0.2)\n",
            "Requirement already satisfied: yarl<2.0,>=1.0 in /usr/local/lib/python3.10/dist-packages (from aiohttp->openai) (1.9.2)\n",
            "Requirement already satisfied: frozenlist>=1.1.1 in /usr/local/lib/python3.10/dist-packages (from aiohttp->openai) (1.3.3)\n",
            "Requirement already satisfied: aiosignal>=1.1.2 in /usr/local/lib/python3.10/dist-packages (from aiohttp->openai) (1.3.1)\n",
            "Installing collected packages: openai\n",
            "Successfully installed openai-0.27.8\n"
          ]
        }
      ]
    },
    {
      "cell_type": "code",
      "source": [
        "pip install chromadb"
      ],
      "metadata": {
        "colab": {
          "base_uri": "https://localhost:8080/"
        },
        "id": "p_aOid--72ZO",
        "outputId": "a97e69ad-ae20-4a3d-a386-74ef715530b0"
      },
      "execution_count": 3,
      "outputs": [
        {
          "output_type": "stream",
          "name": "stdout",
          "text": [
            "Looking in indexes: https://pypi.org/simple, https://us-python.pkg.dev/colab-wheels/public/simple/\n",
            "Collecting chromadb\n",
            "  Downloading chromadb-0.3.26-py3-none-any.whl (123 kB)\n",
            "\u001b[2K     \u001b[90m━━━━━━━━━━━━━━━━━━━━━━━━━━━━━━━━━━━━━━━\u001b[0m \u001b[32m123.6/123.6 kB\u001b[0m \u001b[31m3.0 MB/s\u001b[0m eta \u001b[36m0:00:00\u001b[0m\n",
            "\u001b[?25hRequirement already satisfied: pandas>=1.3 in /usr/local/lib/python3.10/dist-packages (from chromadb) (1.5.3)\n",
            "Collecting requests>=2.28 (from chromadb)\n",
            "  Downloading requests-2.31.0-py3-none-any.whl (62 kB)\n",
            "\u001b[2K     \u001b[90m━━━━━━━━━━━━━━━━━━━━━━━━━━━━━━━━━━━━━━━━\u001b[0m \u001b[32m62.6/62.6 kB\u001b[0m \u001b[31m5.7 MB/s\u001b[0m eta \u001b[36m0:00:00\u001b[0m\n",
            "\u001b[?25hRequirement already satisfied: pydantic>=1.9 in /usr/local/lib/python3.10/dist-packages (from chromadb) (1.10.7)\n",
            "Collecting hnswlib>=0.7 (from chromadb)\n",
            "  Downloading hnswlib-0.7.0.tar.gz (33 kB)\n",
            "  Installing build dependencies ... \u001b[?25l\u001b[?25hdone\n",
            "  Getting requirements to build wheel ... \u001b[?25l\u001b[?25hdone\n",
            "  Preparing metadata (pyproject.toml) ... \u001b[?25l\u001b[?25hdone\n",
            "Collecting clickhouse-connect>=0.5.7 (from chromadb)\n",
            "  Downloading clickhouse_connect-0.6.1-cp310-cp310-manylinux_2_17_x86_64.manylinux2014_x86_64.whl (938 kB)\n",
            "\u001b[2K     \u001b[90m━━━━━━━━━━━━━━━━━━━━━━━━━━━━━━━━━━━━━━\u001b[0m \u001b[32m938.7/938.7 kB\u001b[0m \u001b[31m32.8 MB/s\u001b[0m eta \u001b[36m0:00:00\u001b[0m\n",
            "\u001b[?25hRequirement already satisfied: duckdb>=0.7.1 in /usr/local/lib/python3.10/dist-packages (from chromadb) (0.7.1)\n",
            "Collecting fastapi>=0.85.1 (from chromadb)\n",
            "  Downloading fastapi-0.96.0-py3-none-any.whl (57 kB)\n",
            "\u001b[2K     \u001b[90m━━━━━━━━━━━━━━━━━━━━━━━━━━━━━━━━━━━━━━━━\u001b[0m \u001b[32m57.1/57.1 kB\u001b[0m \u001b[31m6.9 MB/s\u001b[0m eta \u001b[36m0:00:00\u001b[0m\n",
            "\u001b[?25hCollecting uvicorn[standard]>=0.18.3 (from chromadb)\n",
            "  Downloading uvicorn-0.22.0-py3-none-any.whl (58 kB)\n",
            "\u001b[2K     \u001b[90m━━━━━━━━━━━━━━━━━━━━━━━━━━━━━━━━━━━━━━━━\u001b[0m \u001b[32m58.3/58.3 kB\u001b[0m \u001b[31m7.1 MB/s\u001b[0m eta \u001b[36m0:00:00\u001b[0m\n",
            "\u001b[?25hRequirement already satisfied: numpy>=1.21.6 in /usr/local/lib/python3.10/dist-packages (from chromadb) (1.22.4)\n",
            "Collecting posthog>=2.4.0 (from chromadb)\n",
            "  Downloading posthog-3.0.1-py2.py3-none-any.whl (37 kB)\n",
            "Requirement already satisfied: typing-extensions>=4.5.0 in /usr/local/lib/python3.10/dist-packages (from chromadb) (4.5.0)\n",
            "Collecting pulsar-client>=3.1.0 (from chromadb)\n",
            "  Downloading pulsar_client-3.2.0-cp310-cp310-manylinux_2_17_x86_64.manylinux2014_x86_64.whl (5.3 MB)\n",
            "\u001b[2K     \u001b[90m━━━━━━━━━━━━━━━━━━━━━━━━━━━━━━━━━━━━━━━━\u001b[0m \u001b[32m5.3/5.3 MB\u001b[0m \u001b[31m37.2 MB/s\u001b[0m eta \u001b[36m0:00:00\u001b[0m\n",
            "\u001b[?25hCollecting onnxruntime>=1.14.1 (from chromadb)\n",
            "  Downloading onnxruntime-1.15.0-cp310-cp310-manylinux_2_17_x86_64.manylinux2014_x86_64.whl (5.9 MB)\n",
            "\u001b[2K     \u001b[90m━━━━━━━━━━━━━━━━━━━━━━━━━━━━━━━━━━━━━━━━\u001b[0m \u001b[32m5.9/5.9 MB\u001b[0m \u001b[31m67.0 MB/s\u001b[0m eta \u001b[36m0:00:00\u001b[0m\n",
            "\u001b[?25hCollecting tokenizers>=0.13.2 (from chromadb)\n",
            "  Downloading tokenizers-0.13.3-cp310-cp310-manylinux_2_17_x86_64.manylinux2014_x86_64.whl (7.8 MB)\n",
            "\u001b[2K     \u001b[90m━━━━━━━━━━━━━━━━━━━━━━━━━━━━━━━━━━━━━━━━\u001b[0m \u001b[32m7.8/7.8 MB\u001b[0m \u001b[31m84.8 MB/s\u001b[0m eta \u001b[36m0:00:00\u001b[0m\n",
            "\u001b[?25hRequirement already satisfied: tqdm>=4.65.0 in /usr/local/lib/python3.10/dist-packages (from chromadb) (4.65.0)\n",
            "Collecting overrides>=7.3.1 (from chromadb)\n",
            "  Downloading overrides-7.3.1-py3-none-any.whl (17 kB)\n",
            "Requirement already satisfied: certifi in /usr/local/lib/python3.10/dist-packages (from clickhouse-connect>=0.5.7->chromadb) (2022.12.7)\n",
            "Requirement already satisfied: urllib3>=1.26 in /usr/local/lib/python3.10/dist-packages (from clickhouse-connect>=0.5.7->chromadb) (1.26.15)\n",
            "Requirement already satisfied: pytz in /usr/local/lib/python3.10/dist-packages (from clickhouse-connect>=0.5.7->chromadb) (2022.7.1)\n",
            "Collecting zstandard (from clickhouse-connect>=0.5.7->chromadb)\n",
            "  Downloading zstandard-0.21.0-cp310-cp310-manylinux_2_17_x86_64.manylinux2014_x86_64.whl (2.7 MB)\n",
            "\u001b[2K     \u001b[90m━━━━━━━━━━━━━━━━━━━━━━━━━━━━━━━━━━━━━━━━\u001b[0m \u001b[32m2.7/2.7 MB\u001b[0m \u001b[31m62.8 MB/s\u001b[0m eta \u001b[36m0:00:00\u001b[0m\n",
            "\u001b[?25hCollecting lz4 (from clickhouse-connect>=0.5.7->chromadb)\n",
            "  Downloading lz4-4.3.2-cp310-cp310-manylinux_2_17_x86_64.manylinux2014_x86_64.whl (1.3 MB)\n",
            "\u001b[2K     \u001b[90m━━━━━━━━━━━━━━━━━━━━━━━━━━━━━━━━━━━━━━━━\u001b[0m \u001b[32m1.3/1.3 MB\u001b[0m \u001b[31m51.9 MB/s\u001b[0m eta \u001b[36m0:00:00\u001b[0m\n",
            "\u001b[?25hCollecting starlette<0.28.0,>=0.27.0 (from fastapi>=0.85.1->chromadb)\n",
            "  Downloading starlette-0.27.0-py3-none-any.whl (66 kB)\n",
            "\u001b[2K     \u001b[90m━━━━━━━━━━━━━━━━━━━━━━━━━━━━━━━━━━━━━━━━\u001b[0m \u001b[32m67.0/67.0 kB\u001b[0m \u001b[31m7.3 MB/s\u001b[0m eta \u001b[36m0:00:00\u001b[0m\n",
            "\u001b[?25hCollecting coloredlogs (from onnxruntime>=1.14.1->chromadb)\n",
            "  Downloading coloredlogs-15.0.1-py2.py3-none-any.whl (46 kB)\n",
            "\u001b[2K     \u001b[90m━━━━━━━━━━━━━━━━━━━━━━━━━━━━━━━━━━━━━━━━\u001b[0m \u001b[32m46.0/46.0 kB\u001b[0m \u001b[31m5.0 MB/s\u001b[0m eta \u001b[36m0:00:00\u001b[0m\n",
            "\u001b[?25hRequirement already satisfied: flatbuffers in /usr/local/lib/python3.10/dist-packages (from onnxruntime>=1.14.1->chromadb) (23.3.3)\n",
            "Requirement already satisfied: packaging in /usr/local/lib/python3.10/dist-packages (from onnxruntime>=1.14.1->chromadb) (23.1)\n",
            "Requirement already satisfied: protobuf in /usr/local/lib/python3.10/dist-packages (from onnxruntime>=1.14.1->chromadb) (3.20.3)\n",
            "Requirement already satisfied: sympy in /usr/local/lib/python3.10/dist-packages (from onnxruntime>=1.14.1->chromadb) (1.11.1)\n",
            "Requirement already satisfied: python-dateutil>=2.8.1 in /usr/local/lib/python3.10/dist-packages (from pandas>=1.3->chromadb) (2.8.2)\n",
            "Requirement already satisfied: six>=1.5 in /usr/local/lib/python3.10/dist-packages (from posthog>=2.4.0->chromadb) (1.16.0)\n",
            "Collecting monotonic>=1.5 (from posthog>=2.4.0->chromadb)\n",
            "  Downloading monotonic-1.6-py2.py3-none-any.whl (8.2 kB)\n",
            "Collecting backoff>=1.10.0 (from posthog>=2.4.0->chromadb)\n",
            "  Downloading backoff-2.2.1-py3-none-any.whl (15 kB)\n",
            "Requirement already satisfied: charset-normalizer<4,>=2 in /usr/local/lib/python3.10/dist-packages (from requests>=2.28->chromadb) (2.0.12)\n",
            "Requirement already satisfied: idna<4,>=2.5 in /usr/local/lib/python3.10/dist-packages (from requests>=2.28->chromadb) (3.4)\n",
            "Requirement already satisfied: click>=7.0 in /usr/local/lib/python3.10/dist-packages (from uvicorn[standard]>=0.18.3->chromadb) (8.1.3)\n",
            "Collecting h11>=0.8 (from uvicorn[standard]>=0.18.3->chromadb)\n",
            "  Downloading h11-0.14.0-py3-none-any.whl (58 kB)\n",
            "\u001b[2K     \u001b[90m━━━━━━━━━━━━━━━━━━━━━━━━━━━━━━━━━━━━━━━━\u001b[0m \u001b[32m58.3/58.3 kB\u001b[0m \u001b[31m7.0 MB/s\u001b[0m eta \u001b[36m0:00:00\u001b[0m\n",
            "\u001b[?25hCollecting httptools>=0.5.0 (from uvicorn[standard]>=0.18.3->chromadb)\n",
            "  Downloading httptools-0.5.0-cp310-cp310-manylinux_2_5_x86_64.manylinux1_x86_64.manylinux_2_17_x86_64.manylinux2014_x86_64.whl (414 kB)\n",
            "\u001b[2K     \u001b[90m━━━━━━━━━━━━━━━━━━━━━━━━━━━━━━━━━━━━━━\u001b[0m \u001b[32m414.1/414.1 kB\u001b[0m \u001b[31m40.7 MB/s\u001b[0m eta \u001b[36m0:00:00\u001b[0m\n",
            "\u001b[?25hCollecting python-dotenv>=0.13 (from uvicorn[standard]>=0.18.3->chromadb)\n",
            "  Downloading python_dotenv-1.0.0-py3-none-any.whl (19 kB)\n",
            "Requirement already satisfied: pyyaml>=5.1 in /usr/local/lib/python3.10/dist-packages (from uvicorn[standard]>=0.18.3->chromadb) (6.0)\n",
            "Collecting uvloop!=0.15.0,!=0.15.1,>=0.14.0 (from uvicorn[standard]>=0.18.3->chromadb)\n",
            "  Downloading uvloop-0.17.0-cp310-cp310-manylinux_2_17_x86_64.manylinux2014_x86_64.whl (4.1 MB)\n",
            "\u001b[2K     \u001b[90m━━━━━━━━━━━━━━━━━━━━━━━━━━━━━━━━━━━━━━━━\u001b[0m \u001b[32m4.1/4.1 MB\u001b[0m \u001b[31m61.6 MB/s\u001b[0m eta \u001b[36m0:00:00\u001b[0m\n",
            "\u001b[?25hCollecting watchfiles>=0.13 (from uvicorn[standard]>=0.18.3->chromadb)\n",
            "  Downloading watchfiles-0.19.0-cp37-abi3-manylinux_2_17_x86_64.manylinux2014_x86_64.whl (1.3 MB)\n",
            "\u001b[2K     \u001b[90m━━━━━━━━━━━━━━━━━━━━━━━━━━━━━━━━━━━━━━━━\u001b[0m \u001b[32m1.3/1.3 MB\u001b[0m \u001b[31m63.0 MB/s\u001b[0m eta \u001b[36m0:00:00\u001b[0m\n",
            "\u001b[?25hCollecting websockets>=10.4 (from uvicorn[standard]>=0.18.3->chromadb)\n",
            "  Downloading websockets-11.0.3-cp310-cp310-manylinux_2_5_x86_64.manylinux1_x86_64.manylinux_2_17_x86_64.manylinux2014_x86_64.whl (129 kB)\n",
            "\u001b[2K     \u001b[90m━━━━━━━━━━━━━━━━━━━━━━━━━━━━━━━━━━━━━━\u001b[0m \u001b[32m129.9/129.9 kB\u001b[0m \u001b[31m16.2 MB/s\u001b[0m eta \u001b[36m0:00:00\u001b[0m\n",
            "\u001b[?25hRequirement already satisfied: anyio<5,>=3.4.0 in /usr/local/lib/python3.10/dist-packages (from starlette<0.28.0,>=0.27.0->fastapi>=0.85.1->chromadb) (3.6.2)\n",
            "Collecting humanfriendly>=9.1 (from coloredlogs->onnxruntime>=1.14.1->chromadb)\n",
            "  Downloading humanfriendly-10.0-py2.py3-none-any.whl (86 kB)\n",
            "\u001b[2K     \u001b[90m━━━━━━━━━━━━━━━━━━━━━━━━━━━━━━━━━━━━━━━━\u001b[0m \u001b[32m86.8/86.8 kB\u001b[0m \u001b[31m11.2 MB/s\u001b[0m eta \u001b[36m0:00:00\u001b[0m\n",
            "\u001b[?25hRequirement already satisfied: mpmath>=0.19 in /usr/local/lib/python3.10/dist-packages (from sympy->onnxruntime>=1.14.1->chromadb) (1.3.0)\n",
            "Requirement already satisfied: sniffio>=1.1 in /usr/local/lib/python3.10/dist-packages (from anyio<5,>=3.4.0->starlette<0.28.0,>=0.27.0->fastapi>=0.85.1->chromadb) (1.3.0)\n",
            "Building wheels for collected packages: hnswlib\n",
            "  Building wheel for hnswlib (pyproject.toml) ... \u001b[?25l\u001b[?25hdone\n",
            "  Created wheel for hnswlib: filename=hnswlib-0.7.0-cp310-cp310-linux_x86_64.whl size=2119899 sha256=e71f1d38849be8e7a12b4f3575b9231fde40ac295c5339d4d5fee8e24f04763d\n",
            "  Stored in directory: /root/.cache/pip/wheels/8a/ae/ec/235a682e0041fbaeee389843670581ec6c66872db856dfa9a4\n",
            "Successfully built hnswlib\n",
            "Installing collected packages: tokenizers, monotonic, zstandard, websockets, uvloop, requests, python-dotenv, pulsar-client, overrides, lz4, humanfriendly, httptools, hnswlib, h11, backoff, watchfiles, uvicorn, starlette, posthog, coloredlogs, clickhouse-connect, onnxruntime, fastapi, chromadb\n",
            "  Attempting uninstall: requests\n",
            "    Found existing installation: requests 2.27.1\n",
            "    Uninstalling requests-2.27.1:\n",
            "      Successfully uninstalled requests-2.27.1\n",
            "\u001b[31mERROR: pip's dependency resolver does not currently take into account all the packages that are installed. This behaviour is the source of the following dependency conflicts.\n",
            "google-colab 1.0.0 requires requests==2.27.1, but you have requests 2.31.0 which is incompatible.\u001b[0m\u001b[31m\n",
            "\u001b[0mSuccessfully installed backoff-2.2.1 chromadb-0.3.26 clickhouse-connect-0.6.1 coloredlogs-15.0.1 fastapi-0.96.0 h11-0.14.0 hnswlib-0.7.0 httptools-0.5.0 humanfriendly-10.0 lz4-4.3.2 monotonic-1.6 onnxruntime-1.15.0 overrides-7.3.1 posthog-3.0.1 pulsar-client-3.2.0 python-dotenv-1.0.0 requests-2.31.0 starlette-0.27.0 tokenizers-0.13.3 uvicorn-0.22.0 uvloop-0.17.0 watchfiles-0.19.0 websockets-11.0.3 zstandard-0.21.0\n"
          ]
        }
      ]
    },
    {
      "cell_type": "code",
      "source": [
        "pip install os-sys"
      ],
      "metadata": {
        "colab": {
          "base_uri": "https://localhost:8080/"
        },
        "id": "v53qE2XD8CvQ",
        "outputId": "2d781bbd-8662-4b2b-a27d-0b1be1bf4c38"
      },
      "execution_count": 4,
      "outputs": [
        {
          "output_type": "stream",
          "name": "stdout",
          "text": [
            "Looking in indexes: https://pypi.org/simple, https://us-python.pkg.dev/colab-wheels/public/simple/\n",
            "Collecting os-sys\n",
            "  Downloading os_sys-2.1.4-py3-none-any.whl (15.6 MB)\n",
            "\u001b[2K     \u001b[90m━━━━━━━━━━━━━━━━━━━━━━━━━━━━━━━━━━━━━━━━\u001b[0m \u001b[32m15.6/15.6 MB\u001b[0m \u001b[31m12.2 MB/s\u001b[0m eta \u001b[36m0:00:00\u001b[0m\n",
            "\u001b[?25hCollecting pygubu (from os-sys)\n",
            "  Downloading pygubu-0.31-py3-none-any.whl (118 kB)\n",
            "\u001b[2K     \u001b[90m━━━━━━━━━━━━━━━━━━━━━━━━━━━━━━━━━━━━━━━\u001b[0m \u001b[32m118.7/118.7 kB\u001b[0m \u001b[31m4.2 MB/s\u001b[0m eta \u001b[36m0:00:00\u001b[0m\n",
            "\u001b[?25hRequirement already satisfied: pytz in /usr/local/lib/python3.10/dist-packages (from os-sys) (2022.7.1)\n",
            "Requirement already satisfied: sqlparse in /usr/local/lib/python3.10/dist-packages (from os-sys) (0.4.4)\n",
            "Collecting progress (from os-sys)\n",
            "  Downloading progress-1.6.tar.gz (7.8 kB)\n",
            "  Preparing metadata (setup.py) ... \u001b[?25l\u001b[?25hdone\n",
            "Requirement already satisfied: tqdm in /usr/local/lib/python3.10/dist-packages (from os-sys) (4.65.0)\n",
            "Collecting progressbar (from os-sys)\n",
            "  Downloading progressbar-2.5.tar.gz (10 kB)\n",
            "  Preparing metadata (setup.py) ... \u001b[?25l\u001b[?25hdone\n",
            "Requirement already satisfied: matplotlib in /usr/local/lib/python3.10/dist-packages (from os-sys) (3.7.1)\n",
            "Requirement already satisfied: numpy in /usr/local/lib/python3.10/dist-packages (from os-sys) (1.22.4)\n",
            "Requirement already satisfied: six in /usr/local/lib/python3.10/dist-packages (from os-sys) (1.16.0)\n",
            "Collecting jupyter (from os-sys)\n",
            "  Downloading jupyter-1.0.0-py2.py3-none-any.whl (2.7 kB)\n",
            "Requirement already satisfied: pandas in /usr/local/lib/python3.10/dist-packages (from os-sys) (1.5.3)\n",
            "Requirement already satisfied: beautifulsoup4 in /usr/local/lib/python3.10/dist-packages (from os-sys) (4.11.2)\n",
            "Collecting Eel (from os-sys)\n",
            "  Downloading Eel-0.16.0.tar.gz (24 kB)\n",
            "  Preparing metadata (setup.py) ... \u001b[?25l\u001b[?25hdone\n",
            "Collecting extract-zip (from os-sys)\n",
            "  Downloading extract_zip-1.0.0-py3-none-any.whl (2.6 kB)\n",
            "INFO: pip is looking at multiple versions of os-sys to determine which version is compatible with other requirements. This could take a while.\n",
            "Collecting os-sys\n",
            "  Downloading os_sys-2.1.3-py3-none-any.whl (15.5 MB)\n",
            "\u001b[2K     \u001b[90m━━━━━━━━━━━━━━━━━━━━━━━━━━━━━━━━━━━━━━━━\u001b[0m \u001b[32m15.5/15.5 MB\u001b[0m \u001b[31m12.0 MB/s\u001b[0m eta \u001b[36m0:00:00\u001b[0m\n",
            "\u001b[?25h  Downloading os_sys-2.1.2-py3-none-any.whl (15.4 MB)\n",
            "\u001b[2K     \u001b[90m━━━━━━━━━━━━━━━━━━━━━━━━━━━━━━━━━━━━━━━━\u001b[0m \u001b[32m15.4/15.4 MB\u001b[0m \u001b[31m9.4 MB/s\u001b[0m eta \u001b[36m0:00:00\u001b[0m\n",
            "\u001b[?25h  Downloading os_sys-2.1.1-py3-none-any.whl (15.4 MB)\n",
            "\u001b[2K     \u001b[90m━━━━━━━━━━━━━━━━━━━━━━━━━━━━━━━━━━━━━━━━\u001b[0m \u001b[32m15.4/15.4 MB\u001b[0m \u001b[31m12.0 MB/s\u001b[0m eta \u001b[36m0:00:00\u001b[0m\n",
            "\u001b[?25h  Downloading os_sys-2.1.0-py3-none-any.whl (15.9 MB)\n",
            "\u001b[2K     \u001b[90m━━━━━━━━━━━━━━━━━━━━━━━━━━━━━━━━━━━━━━━━\u001b[0m \u001b[32m15.9/15.9 MB\u001b[0m \u001b[31m8.8 MB/s\u001b[0m eta \u001b[36m0:00:00\u001b[0m\n",
            "\u001b[?25h  Downloading os_sys-2.0.9-py3-none-any.whl (15.4 MB)\n",
            "\u001b[2K     \u001b[90m━━━━━━━━━━━━━━━━━━━━━━━━━━━━━━━━━━━━━━━━\u001b[0m \u001b[32m15.4/15.4 MB\u001b[0m \u001b[31m8.7 MB/s\u001b[0m eta \u001b[36m0:00:00\u001b[0m\n",
            "\u001b[?25h  Downloading os_sys-2.0.8-py3-none-any.whl (15.4 MB)\n",
            "\u001b[2K     \u001b[90m━━━━━━━━━━━━━━━━━━━━━━━━━━━━━━━━━━━━━━━━\u001b[0m \u001b[32m15.4/15.4 MB\u001b[0m \u001b[31m9.8 MB/s\u001b[0m eta \u001b[36m0:00:00\u001b[0m\n",
            "\u001b[?25h  Downloading os_sys-2.0.7-py3-none-any.whl (14.2 MB)\n",
            "\u001b[2K     \u001b[90m━━━━━━━━━━━━━━━━━━━━━━━━━━━━━━━━━━━━━━━━\u001b[0m \u001b[32m14.2/14.2 MB\u001b[0m \u001b[31m9.6 MB/s\u001b[0m eta \u001b[36m0:00:00\u001b[0m\n",
            "\u001b[?25hINFO: pip is looking at multiple versions of os-sys to determine which version is compatible with other requirements. This could take a while.\n",
            "  Downloading os_sys-2.0.6-py3-none-any.whl (14.2 MB)\n",
            "\u001b[2K     \u001b[90m━━━━━━━━━━━━━━━━━━━━━━━━━━━━━━━━━━━━━━━━\u001b[0m \u001b[32m14.2/14.2 MB\u001b[0m \u001b[31m6.6 MB/s\u001b[0m eta \u001b[36m0:00:00\u001b[0m\n",
            "\u001b[?25h  Downloading os_sys-2.0.5-py3-none-any.whl (12.2 MB)\n",
            "\u001b[2K     \u001b[90m━━━━━━━━━━━━━━━━━━━━━━━━━━━━━━━━━━━━━━━━\u001b[0m \u001b[32m12.2/12.2 MB\u001b[0m \u001b[31m12.0 MB/s\u001b[0m eta \u001b[36m0:00:00\u001b[0m\n",
            "\u001b[?25h  Downloading os_sys-2.0.4-py3-none-any.whl (50.9 MB)\n",
            "\u001b[2K     \u001b[90m━━━━━━━━━━━━━━━━━━━━━━━━━━━━━━━━━━━━━━━━\u001b[0m \u001b[32m50.9/50.9 MB\u001b[0m \u001b[31m4.4 MB/s\u001b[0m eta \u001b[36m0:00:00\u001b[0m\n",
            "\u001b[?25hCollecting webview (from os-sys)\n",
            "  Downloading webview-0.1.5.tar.gz (18 kB)\n",
            "  \u001b[1;31merror\u001b[0m: \u001b[1msubprocess-exited-with-error\u001b[0m\n",
            "  \n",
            "  \u001b[31m×\u001b[0m \u001b[32mpython setup.py egg_info\u001b[0m did not run successfully.\n",
            "  \u001b[31m│\u001b[0m exit code: \u001b[1;36m1\u001b[0m\n",
            "  \u001b[31m╰─>\u001b[0m See above for output.\n",
            "  \n",
            "  \u001b[1;35mnote\u001b[0m: This error originates from a subprocess, and is likely not a problem with pip.\n",
            "  Preparing metadata (setup.py) ... \u001b[?25l\u001b[?25herror\n",
            "\u001b[1;31merror\u001b[0m: \u001b[1mmetadata-generation-failed\u001b[0m\n",
            "\n",
            "\u001b[31m×\u001b[0m Encountered error while generating package metadata.\n",
            "\u001b[31m╰─>\u001b[0m See above for output.\n",
            "\n",
            "\u001b[1;35mnote\u001b[0m: This is an issue with the package mentioned above, not pip.\n",
            "\u001b[1;36mhint\u001b[0m: See above for details.\n"
          ]
        }
      ]
    },
    {
      "cell_type": "code",
      "source": [
        "from getpass import getpass"
      ],
      "metadata": {
        "id": "anOv35n38QfI"
      },
      "execution_count": 5,
      "outputs": []
    },
    {
      "cell_type": "code",
      "source": [
        "import os"
      ],
      "metadata": {
        "id": "_pTVJoYM8U1g"
      },
      "execution_count": 6,
      "outputs": []
    },
    {
      "cell_type": "code",
      "source": [
        "os.environ[\"OPENAI_API_KEY\"]=getpass()"
      ],
      "metadata": {
        "colab": {
          "base_uri": "https://localhost:8080/"
        },
        "id": "XMbjja1o8W0x",
        "outputId": "087cc876-91ff-4aa8-bd26-9b4bb93dceaa"
      },
      "execution_count": 7,
      "outputs": [
        {
          "name": "stdout",
          "output_type": "stream",
          "text": [
            "··········\n"
          ]
        }
      ]
    },
    {
      "cell_type": "code",
      "source": [
        "from langchain.document_loaders import UnstructuredURLLoader\n",
        "urls = [\n",
        "    \"https://timesofindia.indiatimes.com/india/odisha-train-accident-news-live-orissa-coromandel-express-train-crash-in-bahanaga-bazar-railway-station-balasore-june-6/liveblog/100833657.cms\",\n",
        "    \"https://m.timesofindia.com/india/sanchar-saathi-portal-helped-identify-185-victims-in-train-accident/articleshow/100829974.cms\",\n",
        "    \"https://m.timesofindia.com/india/deliberate-interference-with-system-caused-odisha-train-crash-officials/articleshow/100775218.cms\",\n",
        "    \"https://m.timesofindia.com/india/deliberate-interference-with-system-caused-odisha-train-crash-officials/articleshow/100775218.cms\",\n",
        "    \"https://www.euronews.com/2023/03/01/in-numbers-europes-deadly-railway-crashes\",\n",
        "    \"https://apnews.com/article/europe-worst-train-crashes-greece-f1d73a2713e097e88c3e4460e564dafb\"\n",
        "]\n",
        "loader = UnstructuredURLLoader(urls=urls)\n",
        "documents = loader.load()\n",
        "print(len(documents))"
      ],
      "metadata": {
        "id": "JSHOxlmv8lF1",
        "colab": {
          "base_uri": "https://localhost:8080/"
        },
        "outputId": "8eb079b8-9bc5-4968-f7a6-5d443d17a3fb"
      },
      "execution_count": 37,
      "outputs": [
        {
          "output_type": "stream",
          "name": "stdout",
          "text": [
            "6\n"
          ]
        }
      ]
    },
    {
      "cell_type": "code",
      "source": [
        "pip install pdf2image"
      ],
      "metadata": {
        "colab": {
          "base_uri": "https://localhost:8080/"
        },
        "id": "sKsS-3wJc3ah",
        "outputId": "6bac70b7-38ef-42b3-e941-db762d7bf0c2"
      },
      "execution_count": 11,
      "outputs": [
        {
          "output_type": "stream",
          "name": "stdout",
          "text": [
            "Looking in indexes: https://pypi.org/simple, https://us-python.pkg.dev/colab-wheels/public/simple/\n",
            "Collecting pdf2image\n",
            "  Downloading pdf2image-1.16.3-py3-none-any.whl (11 kB)\n",
            "Requirement already satisfied: pillow in /usr/local/lib/python3.10/dist-packages (from pdf2image) (8.4.0)\n",
            "Installing collected packages: pdf2image\n",
            "Successfully installed pdf2image-1.16.3\n"
          ]
        }
      ]
    },
    {
      "cell_type": "code",
      "source": [
        "pip install unstructured"
      ],
      "metadata": {
        "colab": {
          "base_uri": "https://localhost:8080/"
        },
        "id": "g9OZwYzMcTaT",
        "outputId": "9de15a9c-0442-4c2c-ff44-58714b958ced"
      },
      "execution_count": 9,
      "outputs": [
        {
          "output_type": "stream",
          "name": "stdout",
          "text": [
            "Looking in indexes: https://pypi.org/simple, https://us-python.pkg.dev/colab-wheels/public/simple/\n",
            "Collecting unstructured\n",
            "  Downloading unstructured-0.7.2-py3-none-any.whl (1.3 MB)\n",
            "\u001b[2K     \u001b[90m━━━━━━━━━━━━━━━━━━━━━━━━━━━━━━━━━━━━━━━━\u001b[0m \u001b[32m1.3/1.3 MB\u001b[0m \u001b[31m28.3 MB/s\u001b[0m eta \u001b[36m0:00:00\u001b[0m\n",
            "\u001b[?25hCollecting argilla (from unstructured)\n",
            "  Downloading argilla-1.8.0-py3-none-any.whl (2.4 MB)\n",
            "\u001b[2K     \u001b[90m━━━━━━━━━━━━━━━━━━━━━━━━━━━━━━━━━━━━━━━━\u001b[0m \u001b[32m2.4/2.4 MB\u001b[0m \u001b[31m81.7 MB/s\u001b[0m eta \u001b[36m0:00:00\u001b[0m\n",
            "\u001b[?25hRequirement already satisfied: chardet in /usr/local/lib/python3.10/dist-packages (from unstructured) (4.0.0)\n",
            "Requirement already satisfied: lxml in /usr/local/lib/python3.10/dist-packages (from unstructured) (4.9.2)\n",
            "Collecting msg-parser (from unstructured)\n",
            "  Downloading msg_parser-1.2.0-py2.py3-none-any.whl (101 kB)\n",
            "\u001b[2K     \u001b[90m━━━━━━━━━━━━━━━━━━━━━━━━━━━━━━━━━━━━━━━\u001b[0m \u001b[32m101.8/101.8 kB\u001b[0m \u001b[31m9.7 MB/s\u001b[0m eta \u001b[36m0:00:00\u001b[0m\n",
            "\u001b[?25hRequirement already satisfied: nltk in /usr/local/lib/python3.10/dist-packages (from unstructured) (3.8.1)\n",
            "Requirement already satisfied: openpyxl in /usr/local/lib/python3.10/dist-packages (from unstructured) (3.0.10)\n",
            "Requirement already satisfied: pandas in /usr/local/lib/python3.10/dist-packages (from unstructured) (1.5.3)\n",
            "Collecting pdfminer.six (from unstructured)\n",
            "  Downloading pdfminer.six-20221105-py3-none-any.whl (5.6 MB)\n",
            "\u001b[2K     \u001b[90m━━━━━━━━━━━━━━━━━━━━━━━━━━━━━━━━━━━━━━━━\u001b[0m \u001b[32m5.6/5.6 MB\u001b[0m \u001b[31m59.2 MB/s\u001b[0m eta \u001b[36m0:00:00\u001b[0m\n",
            "\u001b[?25hRequirement already satisfied: pillow in /usr/local/lib/python3.10/dist-packages (from unstructured) (8.4.0)\n",
            "Collecting pypandoc (from unstructured)\n",
            "  Downloading pypandoc-1.11-py3-none-any.whl (20 kB)\n",
            "Collecting python-docx (from unstructured)\n",
            "  Downloading python-docx-0.8.11.tar.gz (5.6 MB)\n",
            "\u001b[2K     \u001b[90m━━━━━━━━━━━━━━━━━━━━━━━━━━━━━━━━━━━━━━━━\u001b[0m \u001b[32m5.6/5.6 MB\u001b[0m \u001b[31m34.8 MB/s\u001b[0m eta \u001b[36m0:00:00\u001b[0m\n",
            "\u001b[?25h  Preparing metadata (setup.py) ... \u001b[?25l\u001b[?25hdone\n",
            "Collecting python-pptx (from unstructured)\n",
            "  Downloading python-pptx-0.6.21.tar.gz (10.1 MB)\n",
            "\u001b[2K     \u001b[90m━━━━━━━━━━━━━━━━━━━━━━━━━━━━━━━━━━━━━━━━\u001b[0m \u001b[32m10.1/10.1 MB\u001b[0m \u001b[31m51.7 MB/s\u001b[0m eta \u001b[36m0:00:00\u001b[0m\n",
            "\u001b[?25h  Preparing metadata (setup.py) ... \u001b[?25l\u001b[?25hdone\n",
            "Collecting python-magic (from unstructured)\n",
            "  Downloading python_magic-0.4.27-py2.py3-none-any.whl (13 kB)\n",
            "Requirement already satisfied: markdown in /usr/local/lib/python3.10/dist-packages (from unstructured) (3.4.3)\n",
            "Requirement already satisfied: requests in /usr/local/lib/python3.10/dist-packages (from unstructured) (2.31.0)\n",
            "Requirement already satisfied: tabulate in /usr/local/lib/python3.10/dist-packages (from unstructured) (0.8.10)\n",
            "Requirement already satisfied: xlrd in /usr/local/lib/python3.10/dist-packages (from unstructured) (2.0.1)\n",
            "Collecting httpx<0.24,>=0.15 (from argilla->unstructured)\n",
            "  Downloading httpx-0.23.3-py3-none-any.whl (71 kB)\n",
            "\u001b[2K     \u001b[90m━━━━━━━━━━━━━━━━━━━━━━━━━━━━━━━━━━━━━━━━\u001b[0m \u001b[32m71.5/71.5 kB\u001b[0m \u001b[31m8.3 MB/s\u001b[0m eta \u001b[36m0:00:00\u001b[0m\n",
            "\u001b[?25hCollecting deprecated~=1.2.0 (from argilla->unstructured)\n",
            "  Downloading Deprecated-1.2.14-py2.py3-none-any.whl (9.6 kB)\n",
            "Requirement already satisfied: packaging>=20.0 in /usr/local/lib/python3.10/dist-packages (from argilla->unstructured) (23.1)\n",
            "Requirement already satisfied: pydantic>=1.10.7 in /usr/local/lib/python3.10/dist-packages (from argilla->unstructured) (1.10.7)\n",
            "Requirement already satisfied: wrapt<1.15,>=1.13 in /usr/local/lib/python3.10/dist-packages (from argilla->unstructured) (1.14.1)\n",
            "Requirement already satisfied: numpy<1.24.0 in /usr/local/lib/python3.10/dist-packages (from argilla->unstructured) (1.22.4)\n",
            "Requirement already satisfied: tqdm>=4.27.0 in /usr/local/lib/python3.10/dist-packages (from argilla->unstructured) (4.65.0)\n",
            "Requirement already satisfied: backoff in /usr/local/lib/python3.10/dist-packages (from argilla->unstructured) (2.2.1)\n",
            "Requirement already satisfied: monotonic in /usr/local/lib/python3.10/dist-packages (from argilla->unstructured) (1.6)\n",
            "Collecting rich<=13.0.1 (from argilla->unstructured)\n",
            "  Downloading rich-13.0.1-py3-none-any.whl (238 kB)\n",
            "\u001b[2K     \u001b[90m━━━━━━━━━━━━━━━━━━━━━━━━━━━━━━━━━━━━━━\u001b[0m \u001b[32m238.1/238.1 kB\u001b[0m \u001b[31m23.0 MB/s\u001b[0m eta \u001b[36m0:00:00\u001b[0m\n",
            "\u001b[?25hRequirement already satisfied: typer<1.0.0,>=0.6.0 in /usr/local/lib/python3.10/dist-packages (from argilla->unstructured) (0.7.0)\n",
            "Requirement already satisfied: python-dateutil>=2.8.1 in /usr/local/lib/python3.10/dist-packages (from pandas->unstructured) (2.8.2)\n",
            "Requirement already satisfied: pytz>=2020.1 in /usr/local/lib/python3.10/dist-packages (from pandas->unstructured) (2022.7.1)\n",
            "Collecting olefile>=0.46 (from msg-parser->unstructured)\n",
            "  Downloading olefile-0.46.zip (112 kB)\n",
            "\u001b[2K     \u001b[90m━━━━━━━━━━━━━━━━━━━━━━━━━━━━━━━━━━━━━━\u001b[0m \u001b[32m112.2/112.2 kB\u001b[0m \u001b[31m11.2 MB/s\u001b[0m eta \u001b[36m0:00:00\u001b[0m\n",
            "\u001b[?25h  Preparing metadata (setup.py) ... \u001b[?25l\u001b[?25hdone\n",
            "Requirement already satisfied: click in /usr/local/lib/python3.10/dist-packages (from nltk->unstructured) (8.1.3)\n",
            "Requirement already satisfied: joblib in /usr/local/lib/python3.10/dist-packages (from nltk->unstructured) (1.2.0)\n",
            "Requirement already satisfied: regex>=2021.8.3 in /usr/local/lib/python3.10/dist-packages (from nltk->unstructured) (2022.10.31)\n",
            "Requirement already satisfied: et-xmlfile in /usr/local/lib/python3.10/dist-packages (from openpyxl->unstructured) (1.1.0)\n",
            "Requirement already satisfied: charset-normalizer>=2.0.0 in /usr/local/lib/python3.10/dist-packages (from pdfminer.six->unstructured) (2.0.12)\n",
            "Requirement already satisfied: cryptography>=36.0.0 in /usr/local/lib/python3.10/dist-packages (from pdfminer.six->unstructured) (40.0.2)\n",
            "Collecting XlsxWriter>=0.5.7 (from python-pptx->unstructured)\n",
            "  Downloading XlsxWriter-3.1.2-py3-none-any.whl (153 kB)\n",
            "\u001b[2K     \u001b[90m━━━━━━━━━━━━━━━━━━━━━━━━━━━━━━━━━━━━━━\u001b[0m \u001b[32m153.0/153.0 kB\u001b[0m \u001b[31m18.8 MB/s\u001b[0m eta \u001b[36m0:00:00\u001b[0m\n",
            "\u001b[?25hRequirement already satisfied: idna<4,>=2.5 in /usr/local/lib/python3.10/dist-packages (from requests->unstructured) (3.4)\n",
            "Requirement already satisfied: urllib3<3,>=1.21.1 in /usr/local/lib/python3.10/dist-packages (from requests->unstructured) (1.26.15)\n",
            "Requirement already satisfied: certifi>=2017.4.17 in /usr/local/lib/python3.10/dist-packages (from requests->unstructured) (2022.12.7)\n",
            "Requirement already satisfied: cffi>=1.12 in /usr/local/lib/python3.10/dist-packages (from cryptography>=36.0.0->pdfminer.six->unstructured) (1.15.1)\n",
            "Collecting httpcore<0.17.0,>=0.15.0 (from httpx<0.24,>=0.15->argilla->unstructured)\n",
            "  Downloading httpcore-0.16.3-py3-none-any.whl (69 kB)\n",
            "\u001b[2K     \u001b[90m━━━━━━━━━━━━━━━━━━━━━━━━━━━━━━━━━━━━━━━━\u001b[0m \u001b[32m69.6/69.6 kB\u001b[0m \u001b[31m7.3 MB/s\u001b[0m eta \u001b[36m0:00:00\u001b[0m\n",
            "\u001b[?25hCollecting rfc3986[idna2008]<2,>=1.3 (from httpx<0.24,>=0.15->argilla->unstructured)\n",
            "  Downloading rfc3986-1.5.0-py2.py3-none-any.whl (31 kB)\n",
            "Requirement already satisfied: sniffio in /usr/local/lib/python3.10/dist-packages (from httpx<0.24,>=0.15->argilla->unstructured) (1.3.0)\n",
            "Requirement already satisfied: typing-extensions>=4.2.0 in /usr/local/lib/python3.10/dist-packages (from pydantic>=1.10.7->argilla->unstructured) (4.5.0)\n",
            "Requirement already satisfied: six>=1.5 in /usr/local/lib/python3.10/dist-packages (from python-dateutil>=2.8.1->pandas->unstructured) (1.16.0)\n",
            "Collecting commonmark<0.10.0,>=0.9.0 (from rich<=13.0.1->argilla->unstructured)\n",
            "  Downloading commonmark-0.9.1-py2.py3-none-any.whl (51 kB)\n",
            "\u001b[2K     \u001b[90m━━━━━━━━━━━━━━━━━━━━━━━━━━━━━━━━━━━━━━━━\u001b[0m \u001b[32m51.1/51.1 kB\u001b[0m \u001b[31m6.1 MB/s\u001b[0m eta \u001b[36m0:00:00\u001b[0m\n",
            "\u001b[?25hRequirement already satisfied: pygments<3.0.0,>=2.6.0 in /usr/local/lib/python3.10/dist-packages (from rich<=13.0.1->argilla->unstructured) (2.14.0)\n",
            "Requirement already satisfied: pycparser in /usr/local/lib/python3.10/dist-packages (from cffi>=1.12->cryptography>=36.0.0->pdfminer.six->unstructured) (2.21)\n",
            "Requirement already satisfied: h11<0.15,>=0.13 in /usr/local/lib/python3.10/dist-packages (from httpcore<0.17.0,>=0.15.0->httpx<0.24,>=0.15->argilla->unstructured) (0.14.0)\n",
            "Requirement already satisfied: anyio<5.0,>=3.0 in /usr/local/lib/python3.10/dist-packages (from httpcore<0.17.0,>=0.15.0->httpx<0.24,>=0.15->argilla->unstructured) (3.6.2)\n",
            "Building wheels for collected packages: python-docx, python-pptx, olefile\n",
            "  Building wheel for python-docx (setup.py) ... \u001b[?25l\u001b[?25hdone\n",
            "  Created wheel for python-docx: filename=python_docx-0.8.11-py3-none-any.whl size=184491 sha256=28508d76cb6bc1f7f9c0539d17d44a55ff2598652c74606a52a7c146ad2aff44\n",
            "  Stored in directory: /root/.cache/pip/wheels/80/27/06/837436d4c3bd989b957a91679966f207bfd71d358d63a8194d\n",
            "  Building wheel for python-pptx (setup.py) ... \u001b[?25l\u001b[?25hdone\n",
            "  Created wheel for python-pptx: filename=python_pptx-0.6.21-py3-none-any.whl size=470935 sha256=ce3c9a64d0d2e41d706e9a8014622d9e19ed1bf1652c3ef18a517f39a2a44bfc\n",
            "  Stored in directory: /root/.cache/pip/wheels/ea/dd/74/01b3ec7256a0800b99384e9a0f7620e358afc3a51a59bf9b49\n",
            "  Building wheel for olefile (setup.py) ... \u001b[?25l\u001b[?25hdone\n",
            "  Created wheel for olefile: filename=olefile-0.46-py2.py3-none-any.whl size=35417 sha256=388470e59ae7a2b9df42778a37313a5e212827c95dbacc0e7e4ae7d5c7b1cadd\n",
            "  Stored in directory: /root/.cache/pip/wheels/02/39/c0/9eb1f7a42b4b38f6f333b6314d4ed11c46f12a0f7b78194f0d\n",
            "Successfully built python-docx python-pptx olefile\n",
            "Installing collected packages: rfc3986, commonmark, XlsxWriter, rich, python-magic, python-docx, pypandoc, olefile, deprecated, python-pptx, msg-parser, httpcore, pdfminer.six, httpx, argilla, unstructured\n",
            "  Attempting uninstall: rich\n",
            "    Found existing installation: rich 13.3.4\n",
            "    Uninstalling rich-13.3.4:\n",
            "      Successfully uninstalled rich-13.3.4\n",
            "Successfully installed XlsxWriter-3.1.2 argilla-1.8.0 commonmark-0.9.1 deprecated-1.2.14 httpcore-0.16.3 httpx-0.23.3 msg-parser-1.2.0 olefile-0.46 pdfminer.six-20221105 pypandoc-1.11 python-docx-0.8.11 python-magic-0.4.27 python-pptx-0.6.21 rfc3986-1.5.0 rich-13.0.1 unstructured-0.7.2\n"
          ]
        }
      ]
    },
    {
      "cell_type": "code",
      "source": [
        "pip install tiktoken"
      ],
      "metadata": {
        "colab": {
          "base_uri": "https://localhost:8080/"
        },
        "id": "vow3PMg18uvH",
        "outputId": "c12499c8-c645-4940-f3c3-9b652bf59cf6"
      },
      "execution_count": 13,
      "outputs": [
        {
          "output_type": "stream",
          "name": "stdout",
          "text": [
            "Looking in indexes: https://pypi.org/simple, https://us-python.pkg.dev/colab-wheels/public/simple/\n",
            "Collecting tiktoken\n",
            "  Downloading tiktoken-0.4.0-cp310-cp310-manylinux_2_17_x86_64.manylinux2014_x86_64.whl (1.7 MB)\n",
            "\u001b[2K     \u001b[90m━━━━━━━━━━━━━━━━━━━━━━━━━━━━━━━━━━━━━━━━\u001b[0m \u001b[32m1.7/1.7 MB\u001b[0m \u001b[31m30.4 MB/s\u001b[0m eta \u001b[36m0:00:00\u001b[0m\n",
            "\u001b[?25hRequirement already satisfied: regex>=2022.1.18 in /usr/local/lib/python3.10/dist-packages (from tiktoken) (2022.10.31)\n",
            "Requirement already satisfied: requests>=2.26.0 in /usr/local/lib/python3.10/dist-packages (from tiktoken) (2.31.0)\n",
            "Requirement already satisfied: charset-normalizer<4,>=2 in /usr/local/lib/python3.10/dist-packages (from requests>=2.26.0->tiktoken) (2.0.12)\n",
            "Requirement already satisfied: idna<4,>=2.5 in /usr/local/lib/python3.10/dist-packages (from requests>=2.26.0->tiktoken) (3.4)\n",
            "Requirement already satisfied: urllib3<3,>=1.21.1 in /usr/local/lib/python3.10/dist-packages (from requests>=2.26.0->tiktoken) (1.26.15)\n",
            "Requirement already satisfied: certifi>=2017.4.17 in /usr/local/lib/python3.10/dist-packages (from requests>=2.26.0->tiktoken) (2022.12.7)\n",
            "Installing collected packages: tiktoken\n",
            "Successfully installed tiktoken-0.4.0\n"
          ]
        }
      ]
    },
    {
      "cell_type": "code",
      "source": [
        "\n",
        "\n",
        "from langchain.embeddings import OpenAIEmbeddings\n",
        "\n",
        "embeddings=OpenAIEmbeddings()\n",
        "text=\"A massive recovery operation is under way, after hundreds of emergency workers searched the wreckage.The cause of India's worst train crash in over 20 years is not yet clear.Officials say several carriages from the Coromandel Express, travelling between Kolkata (formerly Calcutta) and Chennai (formerly Madras), derailed at about 19:00 (13:30 GMT) in Balasore district after hitting a stationary goods train. Several of its coaches ended up on the opposite track.Another train travelling in the opposite direction - the Howrah Superfast Express travelling from Yesvantpur to Howrah\"\n",
        "doc_embeddings=embeddings.embed_documents([text])\n",
        "print(doc_embeddings)"
      ],
      "metadata": {
        "colab": {
          "base_uri": "https://localhost:8080/"
        },
        "id": "cGLlzjci2-LR",
        "outputId": "404ed9bb-dc0c-4c94-b09c-0a55286985e3"
      },
      "execution_count": 14,
      "outputs": [
        {
          "output_type": "stream",
          "name": "stdout",
          "text": [
            "[[-0.001986405614037916, -0.0027894569116349733, 0.012848818898907736, -0.013011805940245171, -0.05077049224761163, 0.007314047438138452, -0.011687535996547857, -0.024407323875781203, -0.019884430219038286, 0.0005118814386348636, -0.003078079836141791, 0.024122095156456802, -0.015578853238293675, 0.00948041787151468, -0.02250580715174766, -0.003544970244565063, 0.025928536882478998, -0.011164618850872504, -0.00832592617348741, -0.0009558516488509036, -0.010118784559521796, 0.013670545309927526, -0.009113697494166744, 0.017412457919001124, -0.0286314064045345, 0.02044130338637668, 0.008753767389828826, -0.010845435041207649, 0.023375071993095714, -0.003339538408979468, -0.01745320514499678, -0.0009507582456014468, -0.005775856420609133, -0.014913322664278713, -0.005242752934096161, -0.015986321772959857, -0.0040373272035743235, -0.01234627536623021, -0.00515107260692853, 0.007517781705471543, 0.01757544496033856, 0.0069099754369611665, -0.006118808514115528, 0.0030050753208888344, -0.006057688606444637, 0.005527980256436674, 0.011884478128225746, -0.02543957575846669, -0.01731738292098978, 0.046315510634194805, 0.021948933984409263, 0.010689239204202823, -0.028685736039195373, -0.012319110548899774, 0.008509286827822673, -0.018295305169014398, 0.0082512238571513, 0.029500671245882553, -0.008488913214824844, 0.011232529962876003, 0.021636542310399607, -0.020020252443045283, -0.02012891171236703, 0.020346226525720157, -0.0078369650494751, -0.017548282005653306, 0.005398948771100988, -0.004495728373751185, -0.004098447111245213, -0.009494000280179897, 0.048814647751562405, 0.01350076706425748, -0.00838025487682569, 0.0018539786429512494, 0.02674347208916618, -0.02401343774978024, 0.0014159507365262424, -0.0077826354148142285, 0.00973848084218605, -0.004095051509078909, 0.03075023980456635, -0.050227199626293274, -0.03395565285929938, 0.024434486830466454, 0.012835236490242518, -0.031565175011253534, -0.00196093883062128, 0.014587348581603841, -0.015443031014286675, 0.0036536281169029217, 0.01301859714457778, 0.01855336907100836, 0.018648444069019703, 0.004190127438412845, -0.013140837891242154, -0.007741888654479869, -0.016040649544975548, 0.026512573004502653, -0.02230207288441457, -0.036536280703367924, -0.0012181590058148327, -0.00192698327461953, -0.000467314654967243, -0.00044227238002905674, -0.00325804488831075, 0.01697782642964969, 0.010655284113862368, -0.011218947554210785, 0.002025454573289123, 0.0015899734849041682, 0.015904827320968547, 0.01165357997488481, 0.004421026057415077, -0.011721491086888311, 0.00011406977336147703, -0.011796193403224419, 0.02768064711119514, -0.01874352092967623, 0.0062478399994512135, -0.024380159058450764, -0.004852262875922798, 0.008563615531160954, 0.0017436227366995904, -0.014397196722935969, 0.00702202891146533, -0.011463428116216938, -0.01119178273688035, 0.005779252022775437, 0.014125551343599378, 0.00940571555517857, -0.02249222474308244, -0.013561887903250962, -0.01111028921621163, -0.0006311506841577481, 0.00286246142688793, 0.019381886686360757, -0.021636542310399607, 0.013195166594580435, -0.011273276257549066, -0.02787079896986301, 0.005015249917260234, 0.008359881263827864, -0.006444783062451695, -0.027897963787193447, -0.023701046075770584, 0.031266365745909096, -0.003106942221724732, 0.038872432642043264, -0.008224059039820864, 0.0011774122454804735, 0.026485408187172214, -0.02379612107378193, 0.007775844676142915, -0.0016324180463216794, 0.017344547738320216, 0.004696066573256676, -0.008353090990817845, 0.011714699882555702, -0.01426137449892897, -0.019694278360370413, 0.0010237628772697272, 0.011959180444561856, 0.009059367859505871, 0.0016222313562380896, 0.019028747786355448, 0.009786019272514315, 0.006156159672283582, -0.01724947087766369, 0.009745272046518661, -0.01834963480367527, 0.011096706807546413, 0.016950661612319253, -0.030397100904561044, 0.0032953960464788042, 0.018105153310346525, 0.01500839859361265, 0.045256093934178884, 0.012597547132568972, -0.03621030662069305, 0.009263102126838962, -0.02816961009785263, 0.007653603929478543, 0.03754136776872297, 0.02080802469504721, -0.02257371733242857, -0.036998078872694976, 0.032624591711269454, -0.01855336907100836, 0.008088236815813865, -0.026308838737169563, 0.0010967676253533316, 0.027449749889176794, 0.00773509745014726, 0.012801281399902062, -0.6363017670092251, -0.028930215669878936, -0.00016808047369072377, -0.009731689637853442, -0.009290266944169397, 0.023497311808437494, 0.015049144888285713, 0.00310524442064158, -0.01364338142391968, 0.03295056579394433, -0.011232529962876003, 0.01781992645366731, 0.0016086490639881954, -0.014628094876276905, 0.005344619602101411, -0.021718034899745733, 0.019327557051699886, 0.006095039764612691, 0.025113599813146637, 0.001669769204489734, -0.021106833960391647, 0.015171385634950085, -0.0013183282219829016, 0.02012891171236703, -0.017303800512324562, -0.01765693941232987, 0.028794393445871938, -0.020767277469051555, -0.0027504079523837668, 0.005487233496102316, -0.011225738758543394, 0.024787625730471764, 0.002161277262957418, 0.0023751978711281266, 0.04862449403024935, -0.01159246006721392, -0.00391848252473755, 0.02693362394783405, 0.02920186198053812, 0.0499012255436184, -0.013752039761918834, 0.0169099143863236, 0.024122095156456802, -0.008230850244153473, -0.002383686876543888, -0.008176521540815192, 0.016393788444980854, 0.006651912466289794, 0.02120190895840299, -0.020482048749727155, 0.02750407952383767, 0.008448165988829191, -0.025534650756478035, -0.003966020023743223, -0.006370080280454291, -0.005059392279760898, 0.022451477517086788, -0.023904780343103674, 0.013066135574906044, -0.011707908678223094, -0.005405739975433597, 0.020223986710378374, -0.02256013492376335, -0.02126982100172908, -0.020617872836379336, 0.00912727897150937, -0.0036909795079016236, 0.02270953955643557, 0.01342606474792137, -0.012020301283555338, 0.01063491050086454, 0.02379612107378193, 0.003640045941068351, 0.009324222034509852, 0.012278364254226709, 0.015361537493617957, 0.03553119363801287, -0.007612857169144184, 0.0029999819176393778, 0.013208749003245653, -0.009867512793183033, -0.0032512536839781406, -0.01186410544655051, -0.010628119296531931, 0.0284955841805275, -0.008746976185496217, -0.01576900509696155, -0.016054231953640766, 0.00535141080643402, 0.014845411552275213, 0.0028166214961347622, 0.005514397847771456, -0.004719835788420808, 0.0025178115322983833, -0.0029660263616376275, 0.020685783017060245, -0.0016222313562380896, 0.012828445285909908, 0.016257966220973856, -0.013860697168595398, -0.010614536887866713, -0.04897763293025466, -0.0025976074847145966, -0.01970786076903563, -0.017018573655645346, 0.0061629508766161915, -0.009290266944169397, -0.005001667508595016, 0.04359905870347409, -0.013337780022920043, 0.0061391821271133545, -0.012984641122914736, -0.011884478128225746, 0.015565270829628457, 0.016312295855634727, -0.026485408187172214, -0.016393788444980854, 0.0017470183388658951, -0.015443031014286675, -0.020549960793053247, 0.01777917922767165, -0.028359761956520502, -0.000379454409340535, -0.004349718877583977, 0.008699437755167953, 0.017235888468998473, 0.014465107834939468, -0.02173161730841095, 0.011911642945556184, -0.019259646871018977, 0.01022065169318834, -0.00620369763695055, 0.0035551568182333286, -0.004689275834585362, 0.012095003599891447, -0.004594199905251426, 0.018159482945007396, -0.013330988818587434, -0.023510894217102712, -0.015157803226284867, -0.03558552327267374, 0.0027368255437185485, 0.027952293421854322, 0.02243789510842157, 0.009303848421512025, -0.007877711344148164, -0.03376549913798633, 0.015456613422951893, -0.043273084620799214, -0.002086574946621309, -0.01316121057291739, -0.010274980396526624, -0.03458043620731869, 0.00480472491125583, -0.000242358470723284, -0.002604398456216558, -0.012746951765241191, -0.0077894266191468374, -0.014791081917614341, -0.033086386155306145, 0.006896393028295949, 0.006261422408116432, -0.013324198545577417, 0.0286314064045345, 0.011008423013867676, -0.03292340097661389, -0.00385396654923906, 0.031184871293917785, -0.020549960793053247, -0.022044008982420607, -0.0023887800469626973, -0.02768064711119514, 0.02140564322573608, 0.021921769167078824, 0.01874352092967623, -0.009392133146513352, -0.026906459130503615, -0.030261276817908862, -0.013752039761918834, 0.010383638734525778, -0.002237677613207327, 0.01904233019502067, -0.03281474170729215, -0.0211475811863873, 0.020712947834390684, 0.013059344370573435, 0.008291970151824363, 2.9419389251857286e-05, -0.04351756425148278, 0.010791106337869368, 0.0013684127718592743, 0.0028200168654704187, -0.02966365828721999, 0.0044889371694185765, -0.009507582688845115, 0.012699414266235517, -0.009582285005181225, -0.014329285610932468, 0.008821678501832327, 0.01405764023159588, 0.03094038980058904, 0.025806295204492034, 0.028821558263202374, 0.008414210898488737, 0.005375180021598152, -0.015809752322957202, 0.010607745683534104, -0.005962612677110701, 0.046831634712892374, 0.0065840008886249995, 0.021718034899745733, -0.03553119363801287, -0.021093251551726425, -0.013113673073911716, 0.0037656818242377326, 0.023510894217102712, -0.002312379929543436, 0.01696424402098447, 0.0030169596956402525, -0.008244432652818691, -0.008814887297499718, 0.009086532676836307, 0.020672200608395027, -0.018322469986344833, -0.017955748677674306, -0.000829366806932284, 0.026716307271835743, 0.023266412723773968, 0.023279995132439186, -0.004108633917744128, -0.0013565282806925322, 0.02175878212574139, 0.0034804545018972195, 0.024380159058450764, 0.026838547087177523, -0.0001934411154358321, -0.007918458570143819, -0.00017020271049274864, 0.0456907272861755, 0.004713044584088199, -0.004169754291076314, -0.0030271465021391663, 0.016937079203654035, -0.00770793309847812, -0.024027020158445458, -0.016950661612319253, 0.025684055389150254, 0.015252879155618803, -0.009494000280179897, 0.020549960793053247, 0.02065861819972981, 0.01405764023159588, 0.002786061309468669, -0.008984665543169762, -0.0012351369002310314, 0.0009567004911848179, 0.026824964678512305, 0.01555168935228583, 0.04169754011679536, 0.018471874619017052, -0.003938855672074082, 0.007218971974465811, 0.022532971969078098, -0.0009363271110176383, -0.008977874338837153, 0.016516030122967817, 0.012651875835907255, 0.012353066570562819, -0.014872575438283058, -0.002719847765717674, -0.027925128604523886, -0.016488865305637382, 0.010621328092199322, -0.011877686923893137, 0.021785946943071826, 0.0011171410055205112, 0.00385396654923906, 0.008855634523495371, 0.027246015621843703, -0.004098447111245213, -0.005269917285765302, -0.01431570320226725, 0.020060999669040937, -0.0001013364034810321, -0.009690943343180379, -0.013385318453248307, -0.014750335622941277, 0.012224034619565838, -0.03012545459390186, 0.006454969403289313, 0.0004579768654252294, 0.03110337870457166, 0.006950722197295526, -0.006774152747292872, -0.003711352888068803, -0.01616289122296251, 0.023171337725762624, -0.0007966844853275744, 0.011606042475879139, -0.010845435041207649, -0.014546601355608186, -0.004974503156925876, 0.0219760988017397, -0.007721515507143338, 0.008169730336482581, 0.00219693062004232, 0.016611105120979165, -0.012291946662891929, 0.014587348581603841, -0.012611129541234192, 0.007164642805466234, -0.0029015106189697847, -0.0008272446137860056, -0.013589051789258807, -0.026621232273824395, -0.004668902221587536, -0.0127537429695738, 0.01807799035566127, 0.02154146544974308, 0.0021341126784576296, 0.007857337731150337, -0.009188399810502852, -0.007096731227801439, -0.015646765281619766, 0.10729985871404922, 0.010811479950867195, -0.02147355526906217, -0.0022716331692090768, 0.00048386804090499183, -0.019667113543039974, -0.020631455245044554, -0.03463476584197956, 0.005280104092264216, -0.0284955841805275, 0.008930336839831481, -0.01165357997488481, 0.013290242523914371, -0.0056026825727727835, 0.007592484021807652, 0.00940571555517857, -0.003421031929648186, -0.006013546243943973, -0.005239357331929857, -0.00036735772214222987, -0.0062478399994512135, -0.011341188300875157, -0.0025178115322983833, 0.039225571542048566, -0.009378551669170725, 0.0012359858007726075, 0.0062478399994512135, 0.01281486287724469, 0.0010373451695196217, 0.005847163600440233, 0.010390429938858387, 0.03485208065533269, 0.016217218994978203, 0.004329345730247445, -0.005677384889108892, -0.007687559951141587, 0.002763990128218337, 0.006943930992962917, -0.010050873447518297, 0.007266509473471484, 0.01828172276034918, 0.007239345121802344, 0.0007504199296806325, -0.0018132318826168904, 0.03368400841128538, -0.010125575763854405, 0.003383680771480131, 0.025208676673803162, -0.02347014699110706, -0.02196251639307448, 0.05283499601298261, -0.003806428584572092, -0.048054040316890916, -0.0009032203391421406, 0.009724899364843425, 0.005782647624941742, -0.011164618850872504, -0.013833533282587553, -0.021229073775733426, 0.006594187695123913, -0.014628094876276905, -0.011280067461881675, 0.02276386919109644, 0.013195166594580435, -0.020916682101723774, -0.0246789683237952, -0.014505855060935123, 0.0005364993215099238, -0.011721491086888311, 0.00398639363674105, 0.007830173845142492, -0.03593866217267905, -0.02530375167181451, 0.003511014455732665, 0.01541586619695624, 0.0005937994677820316, 0.011497384137879985, -0.025263006308464037, 0.011164618850872504, 0.028251102687198756, -0.02025115152770881, -0.010546625775863213, -0.004502519578083794, -0.010716404021533258, -0.025942119291144216, 0.007653603929478543, 0.005460069144433174, -0.02311700809110175, -0.00852286923648789, 0.0375142066766829, 0.0029099993915548982, -0.009949006313851752, 0.008706228959500562, 0.018648444069019703, 0.004241061005246118, 0.005402344373267293, 0.029419176793891246, 0.035775676993986795, 0.004991480702096103, -0.016583940303648726, 0.024964195180474418, 0.00020352169295172486, -0.010444758642196668, -0.013344571227252654, 0.02152788304107786, -0.0023038909241276744, 0.004149380678078487, 0.010241024374863577, 0.016149308814297294, 0.02330715994976962, 0.016203636586312985, -0.03371117322861582, -0.003633254736735742, -0.007395540958807171, -0.012210452210900618, -0.002120530502623059, 0.016040649544975548, 0.0527535015609913, -0.013113673073911716, 0.0033785873682306744, 6.239351314177593e-05, -0.019069495012351105, 0.012842027694575127, -0.012169705916227555, 0.002237677613207327, 0.012332692957564992, -0.004913382783593689, -0.01923248205368854, -0.013106881869579107, 0.004631551063419481, -0.004444794806917913, 0.006604374501622826, 0.024651803506464766, -0.03259742689393902, -0.02291327382376866, 0.006665494409293717, 0.01357547031191618, 0.02933768420454512, 0.016475282896972164, -0.02774855915452123, -0.024624638689134327, -0.010329309099864905, -0.012760534173906409, -0.034009982493960256, -0.006719823578293294, -0.017806344045002087, 0.007280091882136702, 0.0006209639940741583, 0.0027266389700502827, 0.00664851686412349, 0.008224059039820864, 0.006020336982615287, -0.03452610657265782, -0.007178224748470157, -0.022600882149759007, -0.02632242114583478, -0.006200302034784245, 0.003643441543234656, 0.00995579751818436, 0.029364849021875555, 0.04148022530344224, -0.01144984570755172, 0.025792712795826817, -0.00811540070182171, 0.0013480393916920949, 0.02679780172382705, -0.005307268443933357, -0.023361489584430496, -0.027517660069857702, -0.0062172800456157685, 0.01597273936429464, -0.012095003599891447, 0.012081421191226228, -0.0030407286779737365, -0.02433941183245511, 0.024937030363143983, 0.011877686923893137, -0.005640033730940837, 0.004105238315577823, -0.021799529351737044, -0.027775723971851667, 0.015429448605621458, 0.0036094859872329056, 0.044088017964841214, -0.037133902959347154, 0.008278387743159145, 0.02844125454586663, -9.95325043820983e-05, -0.014410779131601187, -0.003989789238907355, 0.03311355097263658, -0.006502507367956281, -0.006410827040788649, 0.006251235601617518, -0.011463428116216938, 0.00545667354226687, -0.01241418647823371, -0.019273229279684195, 0.009636614639842098, -0.00170542267798996, 0.004407443648749859, 0.01699140883831491, -0.005069579086259812, 0.011694327200880466, -0.013752039761918834, 0.018105153310346525, -0.02447523405646211, -0.018879343153683233, -0.006641725659790881, -0.024027020158445458, -0.016692599572970472, -0.018566951479673577, -0.01589124491230333, -0.03330370469394964, 0.01521213192962315, 0.018050825538330834, 0.004516101986749013, 0.021120416369056864, -0.02230207288441457, -0.010920138288866349, 0.003745308444070553, -0.009982961404192206, 0.016366623627650418, 0.0017792762101998165, 0.05764311652640475, 0.013711292535923179, -0.008156147927817364, -0.0008599268771830532, 0.0035653436247322424, -0.006736801589124817, 0.0021239261047893638, 0.03346668987264189, 0.008414210898488737, -0.018376799621005704, -0.02469255073246042, -0.0002606096431922696, 0.014071222640261097, -0.0031035466195584276, 0.0005381971225930761, 0.02121549136706821, 0.01665185234697482, -0.0003932488976219923, -0.013697710127257961, -0.02299476827575997, -0.010342891508530122, -0.0035789258005668127, 0.005544958267268197, 0.007001655764128798, 0.010736777634531085, -0.038057495572710896, -0.01589124491230333, 0.0315380101939231, -0.030777402759251605, 0.01602706713631033, 0.02920186198053812, -0.020264733936374027, -0.009656987321517334, 0.023429399765111405, -0.02920186198053812, -0.013011805940245171, -0.011015213286877695, 0.021161163595052518, -0.04343606979949147, 0.002979608537472198, 0.003117128795392998, 0.012719787879233346, -0.02822393786986832, -0.004923569590092603, -0.003738517239737944, 0.02025115152770881, -0.002016965800704009, 0.0007368376374307381, 0.007246136326134953, 0.02421717201711333, 0.01655677548631829, 0.005826789987442405, -0.006465156209788227, -0.014587348581603841, -0.030043962004555735, 0.008264806265816518, 0.01547019490029452, 0.0083191349691548, 0.004003371647572573, -0.01098125819653724, -0.0211475811863873, -0.03330370469394964, -0.017181560696982782, -0.01002370863018786, -0.0038709443272399347, -0.011368352186883002, -0.02776214156318645, -0.013718083740255788, -0.030043962004555735, 0.024787625730471764, -0.006662099272788709, -0.006672285613626327, -0.018064407946996052, 0.02044130338637668, -0.014139133752264596, -0.0027724791336340986, -0.0011867500350224872, 0.04188769383810842, -0.013351362431585263, 0.013962564302261943, -0.0045194975889153175, -0.01111708042054424, 0.021188326549737773, -0.008359881263827864, -0.03123920092857866, -0.016257966220973856, 0.0022173040002094998, 0.005052601075428289, -0.009595867413846442, -0.005982985824447232, 0.03642762515933654, 0.014533018946942968, -0.019898012627703503, -0.013242704093586107, -0.03982319007273744, 0.04335457907279052, -0.010920138288866349, 0.008502495623490064, 0.022206996023758044, 0.004974503156925876, 0.017806344045002087, 0.003195226946726059, -0.012278364254226709, 0.008176521540815192, -0.009283475739836788, -0.0028369948763019414, 0.01411196893493416, 0.025521068347812818, -0.007585692817475042, -0.012801281399902062, -0.021364895999740428, -0.032380112080585895, -0.019993087625714848, 0.016624687529644383, -0.0039592292850719095, -0.005561935812438424, 0.022206996023758044, -0.006845459461462676, 0.0006578907601790866, 0.0028896260113877186, -0.01821381257966827, -0.016366623627650418, -0.010668865591204994, -0.023646716441109713, -0.020169657075717502, -0.017086483836326254, 0.0009762250290180831, 0.026010029471825125, 0.007578901613142433, -0.009826765567187378, -0.013962564302261943, -0.017711269046990743, -0.04164321420742485, -0.009534747506175553, -0.001828511859534613, 0.032081299089951096, 0.033602513959294075, 0.030641580535244607, 0.0020050811931219435, 0.02355164144309837, -0.01547019490029452, 0.020685783017060245, 0.033901323224638506, 0.02822393786986832, 0.0012639991693986483, 0.00620369763695055, 0.015578853238293675, -0.00325804488831075, -0.008923545635498872, 0.005035623064596767, 0.016407370853646075, 0.006478738618453445, 0.0017555072278663325, 0.02133773118240999, -0.004196918642745455, -0.0021392060817070862, 0.0031680623622262704, -0.005514397847771456, 0.018390382029670922, 0.012909938806578626, 0.02939201197656081, -0.030288441635239298, -0.009371760464838116, 0.03194547872858928, -0.000999145110809991, -0.003850570947072755, 0.005534771460769284, 0.013948981893596724, 0.0079727872734821, -0.0008616246782662055, -0.005348015204267716, -0.012230825823898447, 0.004509310782416404, -0.03900825300340508, -0.0083870460811583, -0.011164618850872504, -0.007959204864816882, 0.029636493469889554, 0.010064455856183515, -0.013052553166240826, -0.006512694174455195, -0.015986321772959857, -0.012298736935901946, 0.004760582548755167, 0.010947302174874194, -0.03669926960735054, 0.005364993215099238, 0.0006905730817837962, 0.00627500481678165, 0.00081790676603633, -0.0014736752748614763, -0.00429199457207939, 0.01485899396094043, -0.0249506127718092, 0.030451428676576735, -0.016828421796977473, -0.031863984276597965, 0.01894725333436414, 0.014410779131601187, -0.017616192186334215, 0.007117104840799266, -0.012101794804224056, 0.007857337731150337, -0.019694278360370413, -0.0160813967709712, -0.0030271465021391663, -0.0036468371454009604, -0.028006623056515193, 0.026716307271835743, 0.0023972690523784584, -0.025874207247818127, 0.006495716163623672, 0.2005828355983693, -0.024230754425778548, 0.006920161777798785, 0.015510942126290176, -0.010118784559521796, -0.01915098760169723, 0.0010178206898940182, 0.00732762984680367, -0.021595795084403954, 0.023021933093090405, -0.01822739498833349, -0.004584013098752513, -0.03232578244592502, -0.006960909003794439, -0.011083125330203785, 0.0214192256344013, -0.044712805038150887, -0.017466787553662, -0.005412531179766206, 0.008156147927817364, 0.020278316345039248, -0.02167728953639526, -0.007653603929478543, 0.015184968043615304, -0.0004545812923627558, -0.005806416374444579, 0.008733393776831, 0.02583346002182247, 0.017426040327666346, 0.027246015621843703, -0.02203042657375539, -0.026458245232486962, -0.004865844818926721, 0.013799577260924506, -0.02251938956041288, 0.011517757750877811, -0.01240060406956849, -0.01665185234697482, -0.02033264411705494, 0.001139212186770843, -0.005300477239600748, 0.0026960787833841897, 0.02228849047574935, 0.004584013098752513, -0.040529467872748054, 0.008006743295145146, -0.007422705776137606, -0.005555144608105815, 0.0007003353215965979, 0.0020135701985377046, -0.0496295810956044, 0.0039592292850719095, 0.012203661937890601, 0.010030499834520468, 0.012774116582571627, -0.010580581797526259, 0.010118784559521796, -0.0040678871574097684, 0.014519437469600341, 0.008556824326828345, -0.014913322664278713, 0.020006670034380065, 0.008190103018157818, 0.00370116608156989, -0.027952293421854322, 0.020223986710378374, -0.005263126081432693, -0.017806344045002087, 0.01030214521385706, -0.023497311808437494, -0.006685868022291545, -0.0013828439646507446, -0.005517793449937761, 0.003365005192396104, -0.008448165988829191, -0.00770793309847812, 0.02332074235843484, -0.001998290221619982, 0.005487233496102316, 0.03830197520339446, 0.02372821089310102, -0.006339520326618845, 0.012502471203235036, -0.0051035346422615615, -0.004108633917744128, -0.015429448605621458, 0.018784266293026704, 0.0028403902456375983, 0.0026723098010507057, 0.001173167742772593, 0.010241024374863577, -0.003534783438066149, -0.0013072926313577359, -0.01016632205852747, 0.00569775850210672, 0.006865833074460503, 0.015021981002277867, 0.019762190403696502, -0.02167728953639526, -0.009643404912852115, -0.017806344045002087, -0.0010763942451861522, 0.011572086454216092, -0.003300489449728261, -0.03140218610727091, 0.006190115693946627, 0.0020356413797880364, 0.02844125454586663, -0.005364993215099238, -0.020563543201718465, -0.005348015204267716, -0.010105202150856578, 0.018879343153683233, -0.015307207858957086, -0.011463428116216938, -0.002930372771722078, 0.001972823438203346, -0.01924606446235376, -0.022410730291091134, -0.005925261518942646, 0.02250580715174766, -0.029500671245882553, -0.008984665543169762, 0.016611105120979165, -0.01534795508495274, -0.028767228628541502, -0.0377858511246969, 0.011898060536890964, -0.0050492054732619845, -0.041969188290099727, 0.014410779131601187, -0.03908974745539639, 0.015510942126290176, -0.007348002994140203, 0.025208676673803162, 0.026824964678512305, 0.006767361542960262, -0.03843779929004664, -0.016597522712313947, -0.009256310922506353, 0.023592386806448838, -0.008746976185496217, -0.00011714700144490181, -0.012943894828241672, 0.015184968043615304, 0.013853905964262787, 0.004132403132908259, 0.021718034899745733, -0.03599299180733992, -0.0043870705014133265, -0.0034940366777317902, -0.014777500440271714, -0.010553416980195823, -0.007585692817475042, 0.028930215669878936, -0.014152716160929816, -0.028359761956520502, -0.03504223437664574, 0.022329237701745008, 0.005589100629768861, -0.02762631933917945, -0.009147652584507199, 0.004536475134085545, -0.006791130292463099, 0.006125599718448137, 0.0004545812923627558, -0.1732009977525186, 0.02325283031510875, 0.00798636968214732, -0.005578913823269947, 0.0248147905478022, 0.00798636968214732, 0.02613227114981209, 0.0015874267832794396, -0.004040722805740628, -0.011300441074879503, 0.025697637797815472, -0.018716356112345796, -0.06943252058794173, -0.015089892114281368, -0.01404405782293066, -0.000373724388892558, -0.0032903026432293475, 0.01193880776288662, 0.0245431460997882, 0.005599286970606479, 0.03373833804594625, -0.012645084631574646, 0.01098125819653724, -0.04696745879954455, -0.03080456757658204, -0.0027826657073023644, -0.013392109657580916, 0.01623080140364342, 0.008611153961489218, -0.016869169022973127, -0.04655999026487837, 0.01308650825658128, 0.004872636023259331, -0.001419346222277223, -0.023375071993095714, 0.009826765567187378, 0.0014269863271514083, -0.0026417498472152603, -0.018173065353672614, 0.0010500785612279399, 0.016312295855634727, -0.005466859883104488, 0.017290218103659345, 0.02133773118240999, -0.010200278080190514, 0.027571989704518577, 0.02952783606321299, -0.008651900256162281, 0.026987953582494922, -0.0028590660575522732, 0.010865808654205476, 0.004363301286249195, 0.018363217212340487, 0.023633134032444495, 0.0064040363021173365, 0.01828172276034918, 0.03305922506326607, -0.010274980396526624, 0.018716356112345796, 0.0064040363021173365, -0.016543193077653073, 0.013656963832584898, 0.023171337725762624, -0.008122191906154319, -0.025493903530482382, -0.012590755928236363, 0.011870895719560529, -0.015456613422951893, -0.03254309725927815, 0.027178103578517614, -0.00920877342350068, 0.01342606474792137, 0.011096706807546413, -0.0006052595086779856, 0.016475282896972164, 0.01431570320226725, -0.015252879155618803, -0.013453229565251808, -0.014505855060935123, -0.028957380487209375, -0.02501852481513529, 0.06736801682257076, -0.0013709594734840028, 0.0011120476022710543, -0.0022835175439604952, 0.0021103436961241455, -0.006387058291285813, 0.004526288327586631, -0.02781647119784732, -0.005806416374444579, 0.029120367528546808, -0.021432808043066517, 0.014926905072943931, -0.02256013492376335, 0.0030814754383080957, 0.012305528140234554, 0.003283511671727386, 0.03414580285532207, -0.008740184981163608, -0.007456661332139357, -0.006937139788630308, 0.001694387087364794, -0.015252879155618803, 0.028278267504529192, 0.03528671400732931, 0.012264781845561491, -0.003246160280728684, 0.016719762527655727, 0.029283354569884245, 0.0021188327015399066, 0.024149259973787238, 0.00511032584659417, 0.011497384137879985, 0.007999952090812537, 0.0030169596956402525, 0.007117104840799266, -0.01896083574302936, -0.015483777308959739, 0.022546552515098132, -0.003196924747809211, 0.046478495812887065, -0.025425993349801473, -0.0019881034151210683, 0.004264829754748955, -0.006393849495618422, -0.023633134032444495, -0.11724207754885872, -0.037704356672705594, 0.008183311813825209, -0.003463476491065697, -0.01377920364792668, 0.018906507971013668, 0.005174841356431366, 0.025996447063159907, -0.02611868874114687, 0.022342820110410225, -0.01500839859361265, -0.017466787553662, 0.0205907080190489, 0.003762286222071428, 0.024461651647796893, 0.00934459564750768, 0.010186695671525296, -0.003551761216067024, 0.0038879223380714574, 0.019544873727698194, -0.023035515501755623, -0.015375119902283175, 0.005137490198263312, -0.025602562799804125, 0.0046213642569205675, 0.01077752392920415, -0.012468515181571991, 0.012176497120560164, 0.013935399484931506, 0.003908295718238637, 0.018390382029670922, -0.008808096093167107, -0.006746988395623731, 0.02530375167181451, 6.54707412252007e-05, -0.00569096729777411, -0.06867191315327024, -0.005650220537439752, 0.032977730611274764, -0.04289278090346347, 0.01240060406956849, -0.007008446502800112, 0.007884502548480775, -0.012991432327247344, -0.017426040327666346, -0.0009796206311843876, -0.013989729119592379, 0.028359761956520502, -0.005388761964602075, -0.016869169022973127, -0.016393788444980854, -0.0045059151802501, -0.026920041539168833, -0.0169099143863236, 0.029283354569884245, 0.0010755453446445761, 0.02624092855648865, 0.028767228628541502, 0.006016941846110278, -0.0014753730759446287, -0.013976146710927161, -0.0032682314619790157, -0.010471923459527105, 0.029364849021875555, 0.0029507461518892574, -0.015375119902283175, -0.01480466432627956, -0.017507534779657653, 0.014492272652269905, -0.034390286211296, -0.005273312887931606, 0.006974490946798362, -0.02844125454586663, 0.02378253866511671, -0.024040602567110676, 0.006580605286458695, -0.02459747387180389, -0.015157803226284867, 0.009025412769165417, -0.0036366503389020466, -0.010825062359532412, -0.024706133141125637, 0.0016723159061144623, 0.017806344045002087, -0.008135774314819537, 0.009093323881168916, 0.01152454895521042, -0.011015213286877695, -0.014071222640261097, -0.0126179207455668, 0.00954832991484077, 0.030261276817908862, -0.012984641122914736, -0.015565270829628457, 0.02203042657375539, 0.03175532500727622, -0.0018013473914501484, -0.0005224925789892415, -0.02476046277578651, 0.022858946051752968, 0.00012627258767939462, -0.019938759853699157, -0.06861758351860937, 0.018838595927687576, 0.025398828532471034, -0.0018386985496182029, 0.0011111987017294782, -0.015252879155618803, 0.029962467552564424, -0.0014524529941527208, -0.0031001510173921227, 0.00511032584659417, -0.026879294313173176, 0.021446390451731735, 0.0040067667840775825, 0.013819950873922333, -0.021799529351737044, 0.013582260584926198, 0.01794216626900909, -0.007551737261473293, 0.005174841356431366, -0.006774152747292872, -0.007667186338143761, -0.022274908067084133, 0.016407370853646075, 0.028332597139190067, -0.005823394385276101, 0.007646813190807229, 0.01889292556234845, 0.030723074987235914, -0.0015398888186124718, -0.0255074859391476, 0.00039452224843435654, -0.015524524534955394, -0.004594199905251426, -0.0001628810160812319, -0.004404048046583554, 0.0253716637151406, -0.007959204864816882, 0.029690823104550425, 0.0023887800469626973, 0.05451919606101784, -0.013079717052248672, -0.034553271389988253, 0.013072925847916063, 0.0028658570290542346, -0.021989681210404916, -0.01411196893493416, -0.005134094596097007, -0.007320838642471061, 0.008407419694156128, 0.010451549846529276, 0.01970786076903563, 0.018906507971013668, -0.017955748677674306, -0.01609497917963642, 0.007157851601133625, -0.01772485145565596, 0.04093693640741424, 0.01323591382057609, -0.00021519394443115735, -0.013602634197924025, 0.015809752322957202, -0.019802935767046975, 0.04555490319952332, -0.011055960512873348, 0.027775723971851667, -0.024312247015124674, -0.004244456607412422, -0.02713735821516714, 0.0026434476482984125, -0.027571989704518577, 0.014329285610932468, 0.011952390171551837, 0.0205907080190489, 0.004285203367746781, -0.021093251551726425, 0.006407431438622345, -0.027028698945845395, 0.009555120187850789, -0.016380206036315636, 0.0036366503389020466, 0.007286883086469312, 0.004780955696091699, -0.031021884252580352, 0.0012283456958984223, 0.013976146710927161, -0.009534747506175553, -0.01178940219889181, 0.01165357997488481, -0.0025042293564638126, 0.011714699882555702, -0.010546625775863213, 0.012149332303229728, -0.023592386806448838, 0.009032203973498026, -0.01765693941232987, 0.032081299089951096, -0.0253716637151406, -0.008332717377820018, 0.027639901747844666, 0.035015069559315305, -0.002169766268373179, 0.010845435041207649, -0.01466884210227256, -0.03634613070734523, -0.03137502128994048, -0.0034023563505641585, -0.006913371039127471, -0.022451477517086788, -0.03164666946324484, -0.0014575463974021775, 0.0013420972043163856, -0.019667113543039974, 0.005640033730940837, 0.013901444394591051, 0.0010025405965609717, -0.019857265401707846, 0.009690943343180379, -0.004264829754748955, -0.005942239064112873, 0.009494000280179897, -0.01362979901525446, 0.016543193077653073, -0.005276708490097912, -0.00018962109210257048, 0.026064359106486, 0.016244383812308638, 0.007877711344148164, -0.026349585963165216, 0.012767325378239018, -0.008258015061483909, 0.011483801729214767, 0.018050825538330834, -0.025072854449796164, -0.020101746895036594, -0.043137260534147036, -0.012183288324892773, -0.017643357003664654, 0.002986399741804807, -0.005341223999935107, 0.049276442195599096, 0.004689275834585362, -0.0005237659298016056, 0.0019218899877853969, 0.009507582688845115, 0.011626415157554375, 0.01779276163633687, 0.015538106943620612, -0.0010721497424782715, -0.034009982493960256, -0.020060999669040937, -0.009826765567187378, 0.013052553166240826, -0.009161234993172417, -0.0034481965141479744, 0.013724874944588397, 0.011606042475879139, 0.006122204116281832, 0.006244444397284909, -0.008006743295145146, -0.004981294361258485, 0.018105153310346525, 0.014370031905605532, 0.005089952233596344, 0.012740160560908582, -0.015714675462300674, 0.0011468521752297043, 0.009656987321517334, -0.019273229279684195, -0.031673834280575276, -0.0060542930042783326, -0.003398960748397854, -0.004926965192258908, -0.007558528465805902, 0.008801304888834498, -0.0006477040700954969, 0.0023072865262939793, -0.014791081917614341, 0.024964195180474418, -0.005972799483609614, -0.007517781705471543, 0.03210846390728153, -0.007307256233805843, -0.011436264230209093, -0.01915098760169723, -0.02367388125844015, 0.001220705707439561, -0.004264829754748955, -0.007918458570143819]]\n"
          ]
        }
      ]
    },
    {
      "cell_type": "code",
      "source": [],
      "metadata": {
        "colab": {
          "base_uri": "https://localhost:8080/"
        },
        "id": "Yx0dtQiB-OqO",
        "outputId": "0bb9a790-bbe5-41df-d99a-6c90d2dc2b75"
      },
      "execution_count": null,
      "outputs": [
        {
          "output_type": "stream",
          "name": "stdout",
          "text": [
            "1\n"
          ]
        }
      ]
    },
    {
      "cell_type": "code",
      "source": [
        "from langchain.text_splitter import CharacterTextSplitter\n",
        "text_splitter=CharacterTextSplitter(chunk_size=500000,chunk_overlap=0)\n",
        "texts=text_splitter.split_documents(documents)\n",
        "print(texts)"
      ],
      "metadata": {
        "colab": {
          "base_uri": "https://localhost:8080/"
        },
        "id": "cF6WeNAC_FeV",
        "outputId": "ce19b036-318b-4927-c92d-d76acf2a64f2"
      },
      "execution_count": 30,
      "outputs": [
        {
          "output_type": "stream",
          "name": "stdout",
          "text": [
            "[Document(page_content=\"Edition\\n\\nIN\\n\\nIN\\n\\nUS\\n\\nSign In\\n\\nTOI\\n\\nindia\\n\\nCoronavirus Outbreak\\n\\nopinions and features\\n\\nTimes Evoke\\n\\nMaharashtra\\n\\nDelhi\\n\\nKarnataka\\n\\nTamil Nadu\\n\\nTelangana\\n\\nUttar Pradesh\\n\\nWest Bengal\\n\\nGujarat\\n\\nMadhya Pradesh\\n\\nBihar\\n\\nChandigarh\\n\\nRajasthan\\n\\nArunachal Pradesh\\n\\nAndhra Pradesh\\n\\nAssam\\n\\nChhattisgarh\\n\\nGoa\\n\\nHaryana\\n\\nHimachal Pradesh\\n\\nJammu Kashmir\\n\\nJharkhand\\n\\nKerala\\n\\nManipur\\n\\nMeghalaya\\n\\nMizoram\\n\\nNagaland\\n\\nOdisha\\n\\nPunjab\\n\\nSikkim\\n\\nTripura\\n\\nUttarakhand\\n\\nAndaman Nicobar Islands\\n\\nDadra Nagar Haveli\\n\\nDaman Diu\\n\\nLakshadweep\\n\\nPondicherry\\n\\nWeb Stories\\n\\nOdisha Coromandel Express Accident Live: Balasore victims’ bodies get swapped, add to kin’s grief\\n\\nNews Updates\\n\\nNews\\n\\nIndia News\\n\\nOdisha Coromandel Express Accident Live: Balasore victims’ bodies get swapped, add to kin’s grief\\n\\nTrending\\n\\nAir India Flight in Russia\\n\\nS Jaishankar\\n\\nCyclone Biparjoy\\n\\nOdisha train accident live\\n\\nGitanjali Aiyar\\n\\nISRO Satellite Launch\\n\\nCoromandel Train Accident Video\\n\\nIndians Students in Canada\\n\\nAir India Flight in Russia\\n\\nS Jaishankar\\n\\nCyclone Biparjoy\\n\\nOdisha train accident live\\n\\nGitanjali Aiyar\\n\\nISRO Satellite Launch\\n\\nCoromandel Train Accident Video\\n\\nIndians Students in Canada\\n\\nAir India Flight in Russia\\n\\nS Jaishankar\\n\\nCyclone Biparjoy\\n\\nOdisha train accident live\\n\\nGitanjali Aiyar\\n\\nISRO Satellite Launch\\n\\nCoromandel Train Accident Video\\n\\nIndians Students in Canada\\n\\nTHE TIMES OF INDIA | Jun 08, 2023, 05:12:25 IST\\n\\nOdisha Coromandel Express Accident Live: Balasore victims’ bodies get swapped, add to kin’s grief\\n\\nOdisha Train Accident Live: The Congress on Wednesday accused the BJP-led Centre of dereliction of duty of Himalayan proportions in the Balasore train tragedy and said an FIR should be lodged by the CBI against railway minister Ashwini Vaishnaw and Prime Minister Narendra Modi for negligence. Stay with TOI for all live updates--Read Less\\n\\nKey Events\\n\\nNews Updates\\n\\n05:11 (IST) Jun 08\\n\\nTrain Accident in Odisha Live: This was not the only case. Family members of Hansraj Kumar from Jharkhand’s Dumka are claiming a body which has already been taken by relatives of Ramesh Murmu of Bhagalpur, Bihar.\\n\\n“After four days of desperate searching in hospitals, we identified the photo of Hansraj, my cousin, who was going to Chennai. When we went to verify with authorities, they said the body had been taken by a family from Bhagalpur,” said Anil Marandi.\\n\\n05:10 (IST) Jun 08\\n\\nTrain Accident in Odisha Live: Manoj Kisku from Jharkhand was travelling on the Coromandel Express wearing a light green check shirt.\\n\\nAnother person from Muzaffarpur in Bihar, Manohar Manjhi, was on board the same train, wearing a similar shirt. Both died in the accident.  Both died in the accident. When Kisku’s family members identified him from the photo album of the deceased, they came to know that Manjhi’s family had already claimed the body, believing it to be of their son.\\n\\n05:09 (IST) Jun 08\\n\\nOdisha Train Accident Live: Balasore victims’ bodies get swapped, add to kin’s grief\\n\\nEven while dealing with the pain of losing loved ones and the difficulty in identifying their bodies, relatives of many of the Bahanaga train crash victims are facing another issue that has added to their torment: Swapping of bodies.\\n\\nREAD FULL STORY\\n\\n05:04 (IST) Jun 08\\n\\nCoromandel Express Accident Live: Sanchar Saathi portal helped identify 185 victims in train accident\\n\\n05:04 (IST) Jun 08\\n\\nOdisha Coromandel Express Accident Live: After resuming services, Coromandel Express reaches Balasore railway station\\n\\n05:04 (IST) Jun 08\\n\\nOdisha train accident live: UK Parliament motion conveys condolences\\n\\n05:04 (IST) Jun 08\\n\\nBalasore train accident live: Congress seeks FIR against PM, railway minister for negligence\\n\\nNo records available under this tab\\n\\nTop Stories Right Now\\n\\n100 million plus in India now diabetic, up 44% in 4 years: ICMR study\\n\\nIndira Gandhi float row not good for ties: EAM S Jaishankar to Canada\\n\\nRs 3.3 lakh-crore Maharashtra 'revdi' nobody is talking about\\n\\nMore Latest News\\n\\nQuick Links\\n\\nWorld Test Championship\\n\\nAssembly Elections\\n\\nElections 2023\\n\\nCoronavirus\\n\\nAbout us\\n\\nCreate Your Own Ad\\n\\nTerms of Use and Grievance Redressal Policy\\n\\nPrivacy policy\\n\\nAdvertise with us\\n\\nRSS\\n\\nNewsletter\\n\\nFeedback\\n\\nePaper\\n\\nSitemap\\n\\nArchives\\n\\nFOLLOW US ON\\n\\nOther Times Group News Sites\\n\\nThe Economic Times\\n\\nHindi Economic Times\\n\\nNavbharat Times\\n\\nMaharashtra Times\\n\\nVijaya Karnataka\\n\\nTelugu Samayam\\n\\nTamil Samayam\\n\\nMalayalam Samayam\\n\\nEi Samay\\n\\nI am Gujarat\\n\\nTimes Now\\n\\nTimes Now Navbharat\\n\\nTimesPoints\\n\\nIndiatimes\\n\\nBrand Capital\\n\\nEducation Times\\n\\nTimes Food\\n\\nMiss Kyra\\n\\nPopular Categories\\n\\nHeadlines\\n\\nSports News\\n\\nBusiness News\\n\\nIndia News\\n\\nWorld News\\n\\nBollywood News\\n\\nHealth & Fitness Tips\\n\\nIndian TV Shows\\n\\nCelebrity Photos\\n\\nHot on the Web\\n\\nWeigh Loss\\n\\nAyurveda Food\\n\\nMurmura Recipes\\n\\nMangoes Benefits\\n\\nMonsoon Vacation Ideas\\n\\nWhite Rice Benefits\\n\\nSlowest Countries In World\\n\\nSouth Indian Dishes\\n\\nRajeev Sen\\n\\nAnasuya\\n\\nTop Trends\\n\\nCyclone Biporjoy\\n\\nTirupati Balaji Temple in Jammu\\n\\nIND vs AUS WTC Final\\n\\nCHSE Odisha Arts Result 2023\\n\\nCoromandel Express Accident\\n\\nMumbai Murder Case\\n\\nCyclone Biparjoy Mumbai\\n\\nBrij Bhushan Singh\\n\\nAir India Flight in Russia\\n\\nOdisha train accident\\n\\nWTC Final 2023\\n\\nGitanjali Aiyar\\n\\nS Jaishankar\\n\\nWTC Final Live Score\\n\\nWrestlers Protest News\\n\\nSri Lanka vs Afghanistan\\n\\nNIRF Ranking 2023\\n\\nWorld Test Championship Final\\n\\nTrending Topics\\n\\nDivya Agarwal\\n\\nKamya Panjabi\\n\\nSamyuktha\\n\\nViral News\\n\\nPrabhas\\n\\nPooja Hegde\\n\\nBreakfast Bowls\\n\\nAdipurush\\n\\nVarun Tej\\n\\nFriends Day Wishes\\n\\nRakshita Reddy\\n\\nZara Hatke Zara Bachke\\n\\nSoy Cutlets Recipes\\n\\nTama\\u200bnnaah Bhatia\\n\\nEsha Gupta\\n\\nDharsha Gupta\\n\\nVivo Y55s\\n\\nLaptops under 30000\\n\\nWiFi Routers\\n\\nTablets under 15000\\n\\nLiving and entertainment\\n\\nViral News\\n\\nViral Videos\\n\\nFemina\\n\\nETimes\\n\\nGrazia\\n\\nZoom\\n\\nTravel Destinations\\n\\nBombay Times\\n\\nCricbuzz.com\\n\\nFilmfare\\n\\nTV\\n\\nLifestyle\\n\\nLongwalks App\\n\\nNewspaper Subscription\\n\\nFood News\\n\\nTimes Prime\\n\\nWhats Hot\\n\\nServices\\n\\nCouponDunia\\n\\nMagicbricks\\n\\nTechGig\\n\\nTimesJobs\\n\\nBollywood News\\n\\nTimes Mobile\\n\\nGadgets Now\\n\\nCareers\\n\\nColombia\\n\\nCopyright © 2023 Bennett, Coleman & Co. Ltd. All rights reserved. For reprint rights: Times Syndication Service\", metadata={'source': 'https://timesofindia.indiatimes.com/india/odisha-train-accident-news-live-orissa-coromandel-express-train-crash-in-bahanaga-bazar-railway-station-balasore-june-6/liveblog/100833657.cms'})]\n"
          ]
        }
      ]
    },
    {
      "cell_type": "code",
      "source": [
        "from langchain.vectorstores import Chroma\n",
        "vecstore=Chroma.from_documents(texts,embeddings)"
      ],
      "metadata": {
        "id": "BK7e_O-jAHrl"
      },
      "execution_count": 16,
      "outputs": []
    },
    {
      "cell_type": "code",
      "source": [
        "from langchain.chains import RetrievalQA\n",
        "from langchain import OpenAI\n",
        "qanda=RetrievalQA.from_chain_type(\n",
        "    llm=OpenAI(),\n",
        "    chain_type=\"map_reduce\",\n",
        "    retriever=vecstore.as_retriever(),\n",
        "    \n",
        ")"
      ],
      "metadata": {
        "id": "k-7eSzVqA3ad"
      },
      "execution_count": 32,
      "outputs": []
    },
    {
      "cell_type": "code",
      "source": [
        "pip install openai"
      ],
      "metadata": {
        "colab": {
          "base_uri": "https://localhost:8080/"
        },
        "id": "eDSvYeje2Kc3",
        "outputId": "80661bdd-bc59-4b05-88d2-050b8cb4651c"
      },
      "execution_count": 18,
      "outputs": [
        {
          "output_type": "stream",
          "name": "stdout",
          "text": [
            "Looking in indexes: https://pypi.org/simple, https://us-python.pkg.dev/colab-wheels/public/simple/\n",
            "Requirement already satisfied: openai in /usr/local/lib/python3.10/dist-packages (0.27.8)\n",
            "Requirement already satisfied: requests>=2.20 in /usr/local/lib/python3.10/dist-packages (from openai) (2.31.0)\n",
            "Requirement already satisfied: tqdm in /usr/local/lib/python3.10/dist-packages (from openai) (4.65.0)\n",
            "Requirement already satisfied: aiohttp in /usr/local/lib/python3.10/dist-packages (from openai) (3.8.4)\n",
            "Requirement already satisfied: charset-normalizer<4,>=2 in /usr/local/lib/python3.10/dist-packages (from requests>=2.20->openai) (2.0.12)\n",
            "Requirement already satisfied: idna<4,>=2.5 in /usr/local/lib/python3.10/dist-packages (from requests>=2.20->openai) (3.4)\n",
            "Requirement already satisfied: urllib3<3,>=1.21.1 in /usr/local/lib/python3.10/dist-packages (from requests>=2.20->openai) (1.26.15)\n",
            "Requirement already satisfied: certifi>=2017.4.17 in /usr/local/lib/python3.10/dist-packages (from requests>=2.20->openai) (2022.12.7)\n",
            "Requirement already satisfied: attrs>=17.3.0 in /usr/local/lib/python3.10/dist-packages (from aiohttp->openai) (23.1.0)\n",
            "Requirement already satisfied: multidict<7.0,>=4.5 in /usr/local/lib/python3.10/dist-packages (from aiohttp->openai) (6.0.4)\n",
            "Requirement already satisfied: async-timeout<5.0,>=4.0.0a3 in /usr/local/lib/python3.10/dist-packages (from aiohttp->openai) (4.0.2)\n",
            "Requirement already satisfied: yarl<2.0,>=1.0 in /usr/local/lib/python3.10/dist-packages (from aiohttp->openai) (1.9.2)\n",
            "Requirement already satisfied: frozenlist>=1.1.1 in /usr/local/lib/python3.10/dist-packages (from aiohttp->openai) (1.3.3)\n",
            "Requirement already satisfied: aiosignal>=1.1.2 in /usr/local/lib/python3.10/dist-packages (from aiohttp->openai) (1.3.1)\n"
          ]
        }
      ]
    },
    {
      "cell_type": "code",
      "source": [
        "\n",
        "\n",
        "def query(q):\n",
        "  \n",
        "  print(\"Answer: \",qanda.run(q))\n",
        "\n",
        "\n",
        "query(input(\"Question ? \"))\n",
        "\n"
      ],
      "metadata": {
        "colab": {
          "base_uri": "https://localhost:8080/"
        },
        "id": "1cWZA4_jC3T0",
        "outputId": "9d48fdbf-4493-447f-eb2e-ff39c01290a1"
      },
      "execution_count": 41,
      "outputs": [
        {
          "output_type": "stream",
          "name": "stdout",
          "text": [
            "Question ? when did the train accident happen\n",
            "Answer:   June 7, 2023.\n"
          ]
        }
      ]
    }
  ]
}